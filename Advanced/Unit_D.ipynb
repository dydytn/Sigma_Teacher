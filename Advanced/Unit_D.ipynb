{
  "nbformat": 4,
  "nbformat_minor": 0,
  "metadata": {
    "colab": {
      "name": "Unit_D.ipynb",
      "provenance": [],
      "collapsed_sections": []
    },
    "kernelspec": {
      "name": "python3",
      "display_name": "Python 3"
    }
  },
  "cells": [
    {
      "cell_type": "markdown",
      "metadata": {
        "id": "7RmfbWJHvHJk"
      },
      "source": [
        "# **單元 D 學習重點**\n",
        "*   **柱狀圖**\n",
        "*   **隨機亂數**\n",
        "*   **數學期望值**"
      ]
    },
    {
      "cell_type": "markdown",
      "metadata": {
        "id": "4W6UgQVLqips"
      },
      "source": [
        "## **D01.柱狀圖**"
      ]
    },
    {
      "cell_type": "code",
      "metadata": {
        "id": "-vcmC0sFX0cE"
      },
      "source": [
        "import matplotlib.pyplot as plt\n",
        "\n",
        "x=[\"Tom\",\"John\",\"Peter\",\"Mark\",\"Donna\"]  #各柱子的文字\n",
        "y=[15, 20, 18, 25, 10]          #各柱子的高度\n",
        "plt.bar(x,y,color=\"red\",edgecolor=\"black\",width=0.75,alpha=0.5)\n",
        "\n",
        "plt.title(\"Example\")   # 標題\n",
        "plt.xlabel(\"Name\")    # x 軸的文字\n",
        "plt.ylabel(\"numbers\")  # y 軸的文字\n",
        "plt.show()"
      ],
      "execution_count": null,
      "outputs": []
    },
    {
      "cell_type": "markdown",
      "metadata": {
        "id": "sHCaC7dnZZjM"
      },
      "source": [
        "## **D02.投擲1個公正骰子 1 次**"
      ]
    },
    {
      "cell_type": "code",
      "metadata": {
        "id": "XnI-4WGdYbt0"
      },
      "source": [
        "import random\n",
        "S=[1,2,3,4,5,6]   #公正骰子的點數\n",
        "a=random.choice(S)  #從袋子內取到的點數\n",
        "print(\"投擲結果:\",a)\n"
      ],
      "execution_count": null,
      "outputs": []
    },
    {
      "cell_type": "markdown",
      "metadata": {
        "id": "wsrYjiqGPEqV"
      },
      "source": [
        "## **D03.投擲1個公正骰子 N 次**"
      ]
    },
    {
      "cell_type": "code",
      "metadata": {
        "id": "SrOMBxhxOqe9"
      },
      "source": [
        "import random\n",
        "N=20        #投擲總數\n",
        "S=[1,2,3,4,5,6]   #公正骰子的點數\n",
        "Ans=[]       #儲存每次的點數\n",
        "\n",
        "for i in range(1,N+1,1):\n",
        "    a=random.choice(S)  #從袋子內取到的點數\n",
        "    Ans.append(a)\n",
        "\n",
        "print(\"投擲結果:\",Ans)  #本指令為確認資料正確,事後可刪除\n"
      ],
      "execution_count": null,
      "outputs": []
    },
    {
      "cell_type": "markdown",
      "metadata": {
        "id": "qmlL8i00QL4q"
      },
      "source": [
        "## **D04.投擲1個公正骰子 N 次,並計算其次數**"
      ]
    },
    {
      "cell_type": "code",
      "metadata": {
        "id": "EmQiP4g0dQ1i"
      },
      "source": [
        "import matplotlib.pyplot as plt\n",
        "import numpy as np\n",
        "y1=Ans.count(1)  #計算1的次數\n",
        "y2=Ans.count(2)  #計算2的次數\n",
        "y3=Ans.count(3)  #計算3的次數\n",
        "y4=Ans.count(4)  #計算4的次數\n",
        "y5=Ans.count(5)  #計算5的次數\n",
        "y6=Ans.count(6)  #計算6的次數\n",
        "x=[1,2,3,4,5,6]    #各柱子的文字\n",
        "y=[y1,y2,y3,y4,y5,y6] \n",
        "plt.bar(x,y,width=0.75,color=\"green\",edgecolor=\"black\",alpha=0.5)\n",
        "\n",
        "plt.title(\"Example\")   # 標題\n",
        "plt.xlabel(\"dice\")    # x軸的文字\n",
        "plt.ylabel(\"numbers\")   # y軸的文字\n",
        "plt.show()"
      ],
      "execution_count": null,
      "outputs": []
    },
    {
      "cell_type": "markdown",
      "metadata": {
        "id": "1Pzz6f2hR6yq"
      },
      "source": [
        "## **D05.計算數學期望值**"
      ]
    },
    {
      "cell_type": "code",
      "metadata": {
        "id": "h92RBePdQjn0"
      },
      "source": [
        "print(\"數學期望理論值=\",3.5)\n",
        "print(\"數學期望實驗值=\",(1*y1+2*y2+3*y3+4*y4+5*y5+6*y6)/N)"
      ],
      "execution_count": null,
      "outputs": []
    },
    {
      "cell_type": "markdown",
      "metadata": {
        "id": "3QxuTgWjvRhm"
      },
      "source": [
        "## **D06.試將D03,D04,D05合併**\n",
        "\n",
        "請將程式做修飾,並以 N=10000 執行"
      ]
    },
    {
      "cell_type": "markdown",
      "metadata": {
        "id": "osnqwz5RkBOa"
      },
      "source": [
        "## **D07.試寫程式~**\n",
        "同時投擲4個公正硬幣 N 次,若每出現1個正面可得100元﹐試以前頁範例的步驟完成柱狀圖與數學期望值.\n",
        "\n",
        "提示 ~\n",
        "\n",
        "S=[0,100]\n",
        "\n",
        "a=random.choice(S)+random.choice(S)+random.choice(S)+random.choice(S)\n"
      ]
    }
  ]
}