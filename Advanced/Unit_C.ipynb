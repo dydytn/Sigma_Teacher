{
  "nbformat": 4,
  "nbformat_minor": 0,
  "metadata": {
    "colab": {
      "name": "Unit_C.ipynb",
      "provenance": [],
      "collapsed_sections": [
        "BUMqFMb3vRwE",
        "osnqwz5RkBOa",
        "8iVu1MwvlH--",
        "SWGFmMNA05GA",
        "sv0Ly2enlePB"
      ]
    },
    "kernelspec": {
      "name": "python3",
      "display_name": "Python 3"
    }
  },
  "cells": [
    {
      "cell_type": "markdown",
      "metadata": {
        "id": "7RmfbWJHvHJk"
      },
      "source": [
        "# **單元 C 學習重點**\n",
        "*   **循環語句for**\n",
        "*   **序列資料與相關指令**\n",
        "*   **指數與對數函數圖形**"
      ]
    },
    {
      "cell_type": "markdown",
      "metadata": {
        "id": "4W6UgQVLqips"
      },
      "source": [
        "## **C01.循環語句  for  (單層迴圈)**\n",
        "(有2種方法如下:)\n",
        "\n",
        "要注意 **縮排與對齊**~非常重要"
      ]
    },
    {
      "cell_type": "code",
      "metadata": {
        "id": "BY2hfWoNEJsS"
      },
      "source": [
        "#用法1\n",
        "#range(起點,終點,間隔) (包含起點,但不含終點)\n",
        "for i in range(1,6,1):\n",
        "    print(i,\"的平方數=\",i*i)\n",
        "print(\"執行完畢\")"
      ],
      "execution_count": null,
      "outputs": []
    },
    {
      "cell_type": "code",
      "metadata": {
        "id": "DmuBydXjLSsT"
      },
      "source": [
        "#用法2\n",
        "for i in [15,29,31,17,26]:\n",
        "    print(i,\"的平方數=\",i*i)\n",
        "print(\"執行完畢\")"
      ],
      "execution_count": null,
      "outputs": []
    },
    {
      "cell_type": "markdown",
      "metadata": {
        "id": "3QxuTgWjvRhm"
      },
      "source": [
        "## **C02.循環語句  for  (多層迴圈)**\n",
        "\n",
        "(有2種方法如下:)\n",
        "\n",
        "要注意 **縮排與對齊**~非常重要"
      ]
    },
    {
      "cell_type": "code",
      "metadata": {
        "id": "KBPXO0DZIbT9"
      },
      "source": [
        "#用法1\n",
        "for i in range(1,6,1):\n",
        "    for j in range(1,6,1):\n",
        "        print(\"(\",i,\",\",j,\")\",end=\"\") #不換行\n",
        "    print(\" \") #會換行\n",
        "print(\"執行完畢\")"
      ],
      "execution_count": null,
      "outputs": []
    },
    {
      "cell_type": "code",
      "metadata": {
        "id": "AXWUHQhLJJ6r"
      },
      "source": [
        "#用法2\n",
        "for i in [\"無糖\",\"微糖\",\"多糖\"]:\n",
        "    for j in [\"綠茶\",\"紅茶\",\"奶茶\",\"花茶\"]:\n",
        "        print(i+j,end=\"  \")  #不換行\n",
        "    print(\" \")  #會換行\n",
        "print(\"執行完畢\")"
      ],
      "execution_count": null,
      "outputs": []
    },
    {
      "cell_type": "markdown",
      "metadata": {
        "id": "BUMqFMb3vRwE"
      },
      "source": [
        "## **C03.試寫程式~**\n",
        "HW1.印出 \"我以後上課不會打瞌睡\" 10次\n",
        "\n",
        "HW2.印出等差數列前10項(首項為-5,公差為2)\n",
        "\n",
        "HW3.印出等比數列前10項(首項為-5,公比為2)\n",
        "\n",
        "HW4.印出九九乘法\n",
        "\n",
        "HW5.印出一副撲克牌\n",
        "\n",
        "HW6.印出投擲硬幣5次的樣本空間"
      ]
    },
    {
      "cell_type": "markdown",
      "metadata": {
        "id": "cxjNiPbbvD4J"
      },
      "source": [
        "## **C04.序列資料與相關指令**"
      ]
    },
    {
      "cell_type": "code",
      "metadata": {
        "id": "07HFHlXxfEbF"
      },
      "source": [
        "#要用中括弧括起來\n",
        "A=[1,2,3,4,5,6,7,8,9]\n",
        "B=[\"Tom\",\"John\",\"Peter\",\"Donna\"]\n",
        "C=[]\n",
        "print(A)\n",
        "print(B)\n",
        "print(C)"
      ],
      "execution_count": null,
      "outputs": []
    },
    {
      "cell_type": "code",
      "metadata": {
        "id": "lpAQWJN7fDNg"
      },
      "source": [
        "A=[1,2,3,4,5,6,7,8,9]\n",
        "B=[\"Tom\",\"John\",\"Peter\",\"Donna\"]\n",
        "C=[]\n",
        "print(len(A)) #求個數\n",
        "print(len(B)) #求個數\n",
        "print(len(C)) #求個數\n",
        "\n",
        "print(sum(A)) #求總和\n",
        "print(max(A)) #求最大值\n",
        "print(min(A)) #求最小值"
      ],
      "execution_count": null,
      "outputs": []
    },
    {
      "cell_type": "code",
      "metadata": {
        "id": "7uuFB7LFd4lF"
      },
      "source": [
        "B=[\"Tom\",\"John\",\"Peter\",\"Donna\"]\n",
        "print(B[0])\n",
        "print(B[1])\n",
        "print(B[2])\n",
        "print(B[3])"
      ],
      "execution_count": null,
      "outputs": []
    },
    {
      "cell_type": "code",
      "metadata": {
        "id": "OvP6emKDeYrl"
      },
      "source": [
        "B=[\"Tom\",\"John\",\"Peter\",\"Donna\"]\n",
        "print(B[-1])\n",
        "print(B[-2])\n",
        "print(B[-3])\n",
        "print(B[-4])"
      ],
      "execution_count": null,
      "outputs": []
    },
    {
      "cell_type": "code",
      "metadata": {
        "id": "Wwq2BaEihBzN"
      },
      "source": [
        "A=[1,2,3,4,5,6,7,8,9]\n",
        "B=[\"Tom\",\"John\",\"Peter\",\"Donna\"]\n",
        "C=[]\n",
        "x=5\n",
        "y=\"Mary\"\n",
        "z=100\n",
        "\n",
        "A.remove(x) #移除x的值\n",
        "B.append(y) #加入y的值\n",
        "C.append(z) #加入z的值\n",
        "\n",
        "print(A)\n",
        "print(B)\n",
        "print(C)"
      ],
      "execution_count": null,
      "outputs": []
    },
    {
      "cell_type": "code",
      "metadata": {
        "id": "OJE9dfIyhv5n"
      },
      "source": [
        "Ans=[1,1,1,2,3,4,5]\n",
        "a=Ans.count(1) #求個數\n",
        "b=Ans.count(2) #求個數\n",
        "c=Ans.count(6) #求個數\n",
        "\n",
        "print(a)\n",
        "print(b)\n",
        "print(c)"
      ],
      "execution_count": null,
      "outputs": []
    },
    {
      "cell_type": "markdown",
      "metadata": {
        "id": "7Bql6HvjP9W4"
      },
      "source": [
        "## **C05.條件語句  if**"
      ]
    },
    {
      "cell_type": "code",
      "metadata": {
        "id": "17Zw0XLjkDZl"
      },
      "source": [
        "x=5  #請更改數字,觀察其效果為何\n",
        "if(x>0):\n",
        "  print(x,\"是正數\")\n",
        "\n",
        "print(\"執行完畢\")"
      ],
      "execution_count": null,
      "outputs": []
    },
    {
      "cell_type": "markdown",
      "metadata": {
        "id": "0mhbXJ9-EXCx"
      },
      "source": [
        "## **C06.有相同物的排列數**\n",
        "**題目:將2個紅球、3個黃球，排成一列，求其排列數**\n",
        "\n",
        "\n",
        "\n",
        "\n"
      ]
    },
    {
      "cell_type": "code",
      "metadata": {
        "id": "_SPQ4mIUEXCy"
      },
      "source": [
        "A=[\"R\",\"Y\"]\n",
        "Ans=[]\n",
        "#設x,y,z,u,v分別為第1,2,3,4,5位置的顏色\n",
        "for x in A:\n",
        " for y in A:\n",
        "  for z in A:\n",
        "   for u in A:\n",
        "    for v in A:\n",
        "     T=[x,y,z,u,v]  #暫時放置的序列\n",
        "             #請完成程式碼\n",
        "             #請完成程式碼\n",
        "     if (2>1):   #請修改\n",
        "       Ans.append(x+y+z+u+v)\n",
        "print (\"答案=\",Ans)\n",
        "print (\"方法數=\",len(Ans))"
      ],
      "execution_count": null,
      "outputs": []
    },
    {
      "cell_type": "markdown",
      "metadata": {
        "id": "osnqwz5RkBOa"
      },
      "source": [
        "## **C07.試寫程式~**\n",
        "HW1.將2個紅球、3個黃球、2個綠球，排成一列，求其排列數。\n",
        "\n",
        "HW2.由6個數字0,0,1,1,2,2 排成的六位數﹐共有多少個？\n",
        "\n",
        "\n",
        "\n",
        "\n"
      ]
    },
    {
      "cell_type": "markdown",
      "metadata": {
        "id": "8iVu1MwvlH--"
      },
      "source": [
        "## **C08.試寫程式~**\n",
        "HW3.  \n",
        "\n",
        "有a、b、c、d、e 等五人排一列，\u000b求下列各情況之排列數：\u000b\n",
        "  \n",
        "(1)　a不排首位，b不排第二位。　\u000b\n",
        "  \n",
        "(2)　a不排首位，b不排第二位，c不排第三位\n",
        "\n",
        "\n",
        "\n",
        "\n",
        "\n"
      ]
    },
    {
      "cell_type": "markdown",
      "metadata": {
        "id": "SWGFmMNA05GA"
      },
      "source": [
        "## **C08.試寫程式~**\n",
        "HW4.  \n",
        "\n",
        "從 t o m a t o 的 6個字母中﹐\u000b任意選取 4 個排成一列﹐共有多少種排法﹖\u000b \u000b答:102\n",
        "\n",
        "\n",
        "\n",
        "\n",
        "\n"
      ]
    },
    {
      "cell_type": "markdown",
      "metadata": {
        "id": "sv0Ly2enlePB"
      },
      "source": [
        "## **C09.試寫程式~**\n",
        "\n",
        "\n",
        "![m10.png](data:image/png;base64,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)\n",
        "\n",
        "\n",
        "\n"
      ]
    }
  ]
}