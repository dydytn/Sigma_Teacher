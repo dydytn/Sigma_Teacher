{
  "nbformat": 4,
  "nbformat_minor": 0,
  "metadata": {
    "colab": {
      "name": "Homework1.ipynb",
      "provenance": [],
      "collapsed_sections": [],
      "authorship_tag": "ABX9TyPWKWRWfikS/7nbWwPV4NXm"
    },
    "kernelspec": {
      "name": "python3",
      "display_name": "Python 3"
    }
  },
  "cells": [
    {
      "cell_type": "markdown",
      "metadata": {
        "id": "YoQZ3YFCDDON"
      },
      "source": [
        "# 作業 1:\n",
        "\n",
        "## 百貨公司週年慶活動血拼大打折， 吸引很多顧客上門，\n",
        "\n",
        "公司決定再加碼回饋客戶，只要客戶消費\n",
        "\n",
        "金額在 100000 元以上就打八折，\n",
        "\n",
        "金額在 50000 元以上就打八五折，\n",
        "\n",
        "金額在 30000 元以上就打九折，\n",
        "\n",
        "金額在 10000 元以上就打九五折，\n",
        "\n",
        "金額在 10000 元以下就不打折\n",
        "\n",
        "請幫該公司設計這個收銀台的程式，\n",
        "\n",
        "輸入顧客購買金額後，計算顧客應付的金錢。"
      ]
    }
  ]
}