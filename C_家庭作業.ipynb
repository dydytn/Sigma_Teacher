{
  "nbformat": 4,
  "nbformat_minor": 0,
  "metadata": {
    "colab": {
      "name": "Homework.ipynb",
      "provenance": [],
      "collapsed_sections": [],
      "authorship_tag": "ABX9TyMnI1GSj1FDwD05f5yESMns"
    },
    "kernelspec": {
      "name": "python3",
      "display_name": "Python 3"
    }
  },
  "cells": [
    {
      "cell_type": "markdown",
      "metadata": {
        "id": "YoQZ3YFCDDON"
      },
      "source": [
        "# 作業 1:\n",
        "\n",
        "百貨公司週年慶活動血拼大打折， 吸引很多顧客上門，\n",
        "\n",
        "公司決定再加碼回饋客戶，只要客戶消費\n",
        "\n",
        "金額在 100000 元以上就打八折，\n",
        "\n",
        "金額在 50000 元以上就打八五折，\n",
        "\n",
        "金額在 30000 元以上就打九折，\n",
        "\n",
        "金額在 10000 元以上就打九五折，\n",
        "\n",
        "金額在 10000 元以下就不打折\n",
        "\n",
        "請幫該公司設計這個收銀台的程式，\n",
        "\n",
        "輸入顧客購買金額後，計算顧客應付的金錢。"
      ]
    },
    {
      "cell_type": "markdown",
      "metadata": {
        "id": "6WkpOoS9RutR"
      },
      "source": [
        "#作業 2:\n",
        "\n",
        "撰寫一個可以排除數列中 5 的倍數的程式\n",
        "\n",
        "使用者只要給定一個正整數，\n",
        "\n",
        "則程式會顯示由 1 到該整數的整數數列，\n",
        "\n",
        "但會將 5 的倍數排除"
      ]
    },
    {
      "cell_type": "markdown",
      "metadata": {
        "id": "RZ6BspuRSUWf"
      },
      "source": [
        "#作業 3:\n",
        "\n",
        "試找一個最小的正整數，\n",
        "\n",
        "它加上100後是一個完全平方數，\n",
        "\n",
        "再加上168又是一個完全平方數，\n",
        "\n",
        "請問該數是多少？"
      ]
    },
    {
      "cell_type": "markdown",
      "metadata": {
        "id": "8w8M8hJTwqbA"
      },
      "source": [
        "# 作業 4:找零錢程式\n",
        "設定變數 N=繳費金額 , M=付款金額,\n",
        "\n",
        "程式輸出如下所示\n",
        "\n",
        "繳費金額:321\n",
        "\n",
        "付款金額:1000\n",
        "\n",
        "收你1000元,需找你679元,明細如下\n",
        "\n",
        "找你500元1張\n",
        "\n",
        "找你100元1張\n",
        "\n",
        "找你 50元1個\n",
        "\n",
        "找你 10元2個\n",
        "\n",
        "找你  5元1個\n",
        "\n",
        "找你  1元4個"
      ]
    },
    {
      "cell_type": "markdown",
      "metadata": {
        "id": "2iFfGvpWiJjy"
      },
      "source": [
        "# 作業 5:\n",
        "**正整數1,2,3,....,N,試求奇數積與偶數積之和?**\n",
        "\n",
        "**例如N=6,試求1x3x5+2x4x6=?**"
      ]
    },
    {
      "cell_type": "markdown",
      "metadata": {
        "id": "V-fFVem67jwR"
      },
      "source": [
        "# 作業 ６:\n",
        "**阿婆賣蛋，７個一數餘２，９個一數餘２，３個一數餘２**\n",
        "\n",
        "**求在１００００之內的所有可能結果。**"
      ]
    },
    {
      "cell_type": "markdown",
      "metadata": {
        "id": "BF2lSvYuvy4R"
      },
      "source": [
        "#進階作業 1:\n",
        "\n",
        "每個上課日有7節課,其中上午為第1至第4節,下午為第5至第7節,\n",
        "\n",
        "若規定上午與下午皆不排連續3節課,且第4節與第5節不可同時排課.\n",
        "\n",
        "\n",
        "已知陳老師當天可排3至6堂課,試問有幾種排課方式?(Ans:45種)"
      ]
    }
  ]
}