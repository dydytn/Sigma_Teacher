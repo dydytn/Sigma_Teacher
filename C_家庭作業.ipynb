{
  "nbformat": 4,
  "nbformat_minor": 0,
  "metadata": {
    "colab": {
      "name": "Homework.ipynb",
      "provenance": [],
      "collapsed_sections": [],
      "authorship_tag": "ABX9TyP1qToyuy5CkYgv39VoKBAN"
    },
    "kernelspec": {
      "name": "python3",
      "display_name": "Python 3"
    }
  },
  "cells": [
    {
      "cell_type": "markdown",
      "metadata": {
        "id": "YoQZ3YFCDDON"
      },
      "source": [
        "# 作業 1:\n",
        "\n",
        "百貨公司週年慶活動血拼大打折， 吸引很多顧客上門，\n",
        "\n",
        "公司決定再加碼回饋客戶，只要客戶消費\n",
        "\n",
        "金額在 100000 元以上就打八折，\n",
        "\n",
        "金額在 50000 元以上就打八五折，\n",
        "\n",
        "金額在 30000 元以上就打九折，\n",
        "\n",
        "金額在 10000 元以上就打九五折，\n",
        "\n",
        "金額在 10000 元以下就不打折\n",
        "\n",
        "請幫該公司設計這個收銀台的程式，\n",
        "\n",
        "輸入顧客購買金額後，計算顧客應付的金錢。"
      ]
    },
    {
      "cell_type": "markdown",
      "metadata": {
        "id": "6WkpOoS9RutR"
      },
      "source": [
        "#作業 2:\n",
        "\n",
        "撰寫一個可以排除數列中 5 的倍數的程式\n",
        "\n",
        "使用者只要給定一個正整數，\n",
        "\n",
        "則程式會顯示由 1 到該整數的整數數列，\n",
        "\n",
        "但會將 5 的倍數排除"
      ]
    },
    {
      "cell_type": "markdown",
      "metadata": {
        "id": "RZ6BspuRSUWf"
      },
      "source": [
        "#作業 3:\n",
        "\n",
        "試找一個最小的正整數，\n",
        "\n",
        "它加上100後是一個完全平方數，\n",
        "\n",
        "再加上168又是一個完全平方數，\n",
        "\n",
        "請問該數是多少？"
      ]
    }
  ]
}