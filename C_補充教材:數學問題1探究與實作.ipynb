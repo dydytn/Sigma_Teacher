{
  "nbformat": 4,
  "nbformat_minor": 0,
  "metadata": {
    "colab": {
      "name": "project1.ipynb",
      "provenance": [],
      "authorship_tag": "ABX9TyMkJTw84IMOKfTISadJEkl1"
    },
    "kernelspec": {
      "name": "python3",
      "display_name": "Python 3"
    }
  },
  "cells": [
    {
      "cell_type": "markdown",
      "metadata": {
        "id": "H7FD7PRhgn5Q"
      },
      "source": [
        "# **數學問題探究與實作**\n",
        "\n",
        "(小提醒 : 有興趣的同學亦可將相關內容整理成一個專題研究)"
      ]
    },
    {
      "cell_type": "markdown",
      "metadata": {
        "id": "qMlrOffJWI6Q"
      },
      "source": [
        "#**探討105年大學學測試題，題目如下：**\n",
        "A、B、C、D四位男生各騎一台機車約 a、 b、 c 、 d \n",
        "\n",
        "四位女生一起出遊，他們約定讓四位女生依照 a、 b、 c 、 d \n",
        "\n",
        "的順序抽鑰匙來決定搭乘哪位男生的機車。\n",
        "\n",
        "其中除了b 認得A的機車鑰匙，並且絕對不會選取之外，\n",
        "\n",
        "每個女生選取這些鑰匙的機會都均等。請選出正確的選項。\n",
        "\n",
        "(1) a 抽到A的鑰匙的機率大於 c 抽到A的鑰匙的機率\n",
        "\n",
        "(2) c 抽到A的鑰匙的機率大於 d 抽到A的鑰匙的機率\n",
        "\n",
        "(3) a 抽到B的鑰匙的機率大於 b 抽到B的鑰匙的機率\n",
        "\n",
        "(4) b 抽到C的鑰匙的機率大於 c 抽到C的鑰匙的機率\n",
        "\n",
        "(5) c 抽到A的鑰匙的機率大於 c 抽到B的鑰匙的機率"
      ]
    },
    {
      "cell_type": "markdown",
      "metadata": {
        "id": "x45I2HYuur3h"
      },
      "source": [
        "###**(實作一)試將所有的情況列出來.**"
      ]
    },
    {
      "cell_type": "code",
      "metadata": {
        "id": "RlnPEShxWGk-"
      },
      "source": [
        "S=[\"A\",\"B\",\"C\",\"D\"]\n",
        "Ans=[]\n",
        "#設x,y,z,u分別為a,b,c,d所選到的鑰匙\n",
        "for x in S:\n",
        " for y in S:\n",
        "  for z in S:\n",
        "   for u in S:\n",
        "    T=[x,y,z,u]  #暫時放置的序列\n",
        "    C1=T.count(\"A\") #計算\"甲\"的次數\n",
        "    C2=T.count(\"B\") #計算\"乙\"的次數\n",
        "    C3=T.count(\"C\") #計算\"丙\"的次數\n",
        "    if (C1==1 and C2==1 and C3==1 and y!=\"A\"):\n",
        "       Ans.append(x+y+z+u)\n",
        "print (\"答案=\",Ans)\n",
        "print (\"方法數=\",len(Ans))"
      ],
      "execution_count": null,
      "outputs": []
    },
    {
      "cell_type": "markdown",
      "metadata": {
        "id": "0PfO31Joyd1D"
      },
      "source": [
        "###**(實作二)女生a分別抽到A、B、C、D的機率實驗過程.**"
      ]
    },
    {
      "cell_type": "markdown",
      "metadata": {
        "id": "ad7pEo_AzQZo"
      },
      "source": [
        "####**步驟1:** 確認實驗的正確性"
      ]
    },
    {
      "cell_type": "code",
      "metadata": {
        "id": "PSUErW-mctbw"
      },
      "source": [
        "import random\n",
        "N=10\n",
        "Ans=[]\n",
        "#設x,y,z,u分別為a,b,c,d所選到的鑰匙\n",
        "for i in range(1,N+1,1):\n",
        "  P=[\"A\",\"B\",\"C\",\"D\"]\n",
        "  Q=[\"B\",\"C\",\"D\"]\n",
        "  x=random.choice(P)  #a所抽到的鑰匙\n",
        "  P.remove(x)      #移除a所抽到的鑰匙\n",
        "  if (x==\"A\"):\n",
        "    y=random.choice(P)  #b所抽到的鑰匙\n",
        "  if (x!=\"A\"):\n",
        "    Q.remove(x)      #移除a所抽到的鑰匙\n",
        "    y=random.choice(Q)  #b所抽到的鑰匙\n",
        "  P.remove(y)      #移除b所抽到的鑰匙\n",
        "  z=random.choice(P)    #c所抽到的鑰匙\n",
        "  P.remove(z)      #移除c所抽到的鑰匙\n",
        "  u=random.choice(P)  #d所抽到的鑰匙\n",
        "  Ans.append(x+y+z+u)\n",
        "print (\"答案=\",Ans)    #正確之後可加#\n",
        "print (\"方法數=\",len(Ans)) #正確之後可加#"
      ],
      "execution_count": null,
      "outputs": []
    },
    {
      "cell_type": "markdown",
      "metadata": {
        "id": "r6AFw6Qd0EBb"
      },
      "source": [
        "####**步驟2:** 確認資料能正確的讀取"
      ]
    },
    {
      "cell_type": "code",
      "metadata": {
        "id": "b4srkPZgKNqA"
      },
      "source": [
        "for data in Ans:\n",
        "    print (data,\"其順序分別是:\",data[0],data[1],data[2],data[3])"
      ],
      "execution_count": null,
      "outputs": []
    },
    {
      "cell_type": "markdown",
      "metadata": {
        "id": "df6ijr3Y0X4N"
      },
      "source": [
        "####**步驟3:** 確認實驗的正確性"
      ]
    },
    {
      "cell_type": "code",
      "metadata": {
        "id": "WjEo_UUeKbcw"
      },
      "source": [
        "man1=[];man2=[];man3=[];man4=[]\n",
        "for data in Ans:\n",
        "  if (data[0]==\"A\"):\n",
        "     man1.append(data)\n",
        "  if (data[0]==\"B\"):\n",
        "     man2.append(data)\n",
        "  if (data[0]==\"C\"):\n",
        "     man3.append(data)\n",
        "  if (data[0]==\"D\"):\n",
        "     man4.append(data)\n",
        "print(\"實驗次數=\",N)\n",
        "print(\"a抽到A的機率實驗值=\",len(man1)/N)\n",
        "print(\"a抽到B的機率實驗值=\",len(man2)/N)\n",
        "print(\"a抽到C的機率實驗值=\",len(man3)/N)\n",
        "print(\"a抽到D的機率實驗值=\",len(man4)/N)"
      ],
      "execution_count": null,
      "outputs": []
    },
    {
      "cell_type": "markdown",
      "metadata": {
        "id": "CKIY3g07IZd0"
      },
      "source": [
        "####**步驟4:** 以古典機率理論計算機率值"
      ]
    },
    {
      "cell_type": "code",
      "metadata": {
        "id": "btMkpTHZIwbp"
      },
      "source": [
        "print(\"a抽到甲的機率理論值=1/4=\",1/4)\n",
        "print(\"a抽到乙的機率理論值=1/4=\",1/4)\n",
        "print(\"a抽到丙的機率理論值=1/4=\",1/4)\n",
        "print(\"a抽到丁的機率理論值=1/4=\",1/4)"
      ],
      "execution_count": null,
      "outputs": []
    },
    {
      "cell_type": "markdown",
      "metadata": {
        "id": "IS_70-LsHC5J"
      },
      "source": [
        "####**步驟5:** 作出柱狀圖與折線圖"
      ]
    },
    {
      "cell_type": "code",
      "metadata": {
        "id": "oMgbFTt5ZQZF"
      },
      "source": [
        "import matplotlib.pyplot as plt\n",
        "plt.figure(figsize=(6,4),dpi=80)\n",
        "plt.title(\"Probability of a draw A,B,C,D\") #標題名稱\n",
        "\n",
        "x=[\"A\",\"B\",\"C\",\"D\"]\n",
        "y1=[len(man1)/N,len(man2)/N,len(man3)/N,len(man4)/N]   #實驗值\n",
        "y2=[1/4,1/4,1/4,1/4]                   #理論值\n",
        "\n",
        "plt.plot(x,y1,color=\"red\",marker=\"D\",label=\"Experiment value\") #作出折線圖\n",
        "plt.bar(x,y2,color=\"skyblue\",label=\"Theory value\")   #作出柱狀圖\n",
        "\n",
        "plt.legend(loc=\"upper right\") #展示每組數據對應的圖像名稱與位置\n",
        "plt.ylim(0,0.5)              #設定 y 軸的範圍\n",
        "plt.show()"
      ],
      "execution_count": null,
      "outputs": []
    },
    {
      "cell_type": "markdown",
      "metadata": {
        "id": "HtCnT6n9Yt4g"
      },
      "source": [
        "####**步驟6:** 將前幾步驟整合為1個程式"
      ]
    },
    {
      "cell_type": "markdown",
      "metadata": {
        "id": "f32HDEGRKcrB"
      },
      "source": [
        "###**(實作三)女生b分別抽到A、B、C、D的機率實驗過程.**"
      ]
    },
    {
      "cell_type": "markdown",
      "metadata": {
        "id": "Fk8WSSlILUlW"
      },
      "source": [
        "###**(實作四)女生c分別抽到A、B、C、D的機率實驗過程.**"
      ]
    },
    {
      "cell_type": "markdown",
      "metadata": {
        "id": "eO1-cIchMxsK"
      },
      "source": [
        "###**(實作五)女生d分別抽到A、B、C、D的機率實驗過程.**"
      ]
    }
  ]
}