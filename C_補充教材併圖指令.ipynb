{
  "nbformat": 4,
  "nbformat_minor": 0,
  "metadata": {
    "colab": {
      "name": "project9.ipynb",
      "provenance": [],
      "collapsed_sections": []
    },
    "kernelspec": {
      "name": "python3",
      "display_name": "Python 3"
    },
    "language_info": {
      "name": "python"
    }
  },
  "cells": [
    {
      "cell_type": "markdown",
      "source": [
        "#補充:併圖指令subplot~同一頁面要繪製多圖"
      ],
      "metadata": {
        "id": "uba3ODB8Fpdw"
      }
    },
    {
      "cell_type": "code",
      "source": [
        "import numpy as np\n",
        "import matplotlib.pyplot as plt\n",
        "plt.figure(figsize=(4,4),dpi=80)\n",
        "\n",
        "plt.subplot(2,3,1) #作圖1\n",
        "\n",
        "plt.subplot(2,3,2) #作圖2\n",
        "\n",
        "plt.subplot(2,3,3) #作圖3\n",
        "\n",
        "plt.subplot(2,3,4) #作圖4\n",
        "\n",
        "plt.subplot(2,3,5) #作圖5\n",
        "\n",
        "plt.subplot(2,3,6) #作圖6\n",
        "\n",
        "plt.show()"
      ],
      "metadata": {
        "colab": {
          "base_uri": "https://localhost:8080/",
          "height": 296
        },
        "id": "was0wqhzFj8m",
        "outputId": "28f39318-d394-4c38-c06c-75f251865452"
      },
      "execution_count": null,
      "outputs": [
        {
          "output_type": "display_data",
          "data": {
            "image/png": "[encoded data removed]",
            "text/plain": [
              "<Figure size 320x320 with 6 Axes>"
            ]
          },
          "metadata": {
            "needs_background": "light"
          }
        }
      ]
    }
  ]
}