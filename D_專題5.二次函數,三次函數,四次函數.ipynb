{
  "nbformat": 4,
  "nbformat_minor": 0,
  "metadata": {
    "colab": {
      "name": "project4.ipynb",
      "provenance": [],
      "collapsed_sections": []
    },
    "kernelspec": {
      "name": "python3",
      "display_name": "Python 3"
    },
    "language_info": {
      "name": "python"
    }
  },
  "cells": [
    {
      "cell_type": "markdown",
      "metadata": {
        "id": "lM_P9e279Nxx"
      },
      "source": [
        "#專題:二次函數,三次函數,四次函數"
      ]
    },
    {
      "cell_type": "markdown",
      "metadata": {
        "id": "rOjpMkqoarAZ"
      },
      "source": [
        "##二次函數圖形與頂點"
      ]
    },
    {
      "cell_type": "code",
      "metadata": {
        "colab": {
          "base_uri": "https://localhost:8080/",
          "height": 284
        },
        "id": "P_W7BMIW3HvA",
        "outputId": "9aa65e58-6693-4387-dd02-7e7ccd9808b3"
      },
      "source": [
        "#二次函數\n",
        "import matplotlib.pyplot as plt\n",
        "import numpy as np\n",
        "plt.figure(figsize=(4,4),dpi=80) #需調整\n",
        "\n",
        "(a,b,c)=(1,-2,3) #二次函數的係數\n",
        "\n",
        "x=np.linspace(-4,6,1001) #(起點,終點,共幾個點包含端點)\n",
        "y=a*x*x+b*x+c\n",
        "plt.plot(x,y,color=\"red\",linewidth=5) #二次函數的圖形\n",
        "\n",
        "h=-b/(2*a)     #頂點的x作標\n",
        "k=(4*a*c-b*b)/(4*a) #頂點的y作標\n",
        "plt.scatter(h,k,color=\"blue\",linewidth=8) #二次函數的頂點\n",
        "\n",
        "ax = plt.gca()  \n",
        "ax.spines['right'].set_color('none')\n",
        "ax.spines['top'].set_color('none')\n",
        "ax.xaxis.set_ticks_position('bottom')\n",
        "ax.spines['bottom'].set_position(('data',0))\n",
        "ax.yaxis.set_ticks_position('left')\n",
        "ax.spines['left'].set_position(('data',0))\n",
        "plt.xlim(-5,7)   #需調整\n",
        "plt.ylim(-5,25)  #需調整\n",
        "plt.show()"
      ],
      "execution_count": 6,
      "outputs": [
        {
          "output_type": "display_data",
          "data": {
            "image/png": "[encoded data removed]",
            "text/plain": [
              "<Figure size 320x320 with 1 Axes>"
            ]
          },
          "metadata": {
            "needs_background": "light"
          }
        }
      ]
    },
    {
      "cell_type": "markdown",
      "metadata": {
        "id": "m4zUdgv0a6Dy"
      },
      "source": [
        "##三次函數圖形與對稱中心點(HomeWork)"
      ]
    },
    {
      "cell_type": "code",
      "metadata": {
        "id": "fQ76mnXobqDc"
      },
      "source": [
        "#(HomeWork)\n",
        "#請同學參考上例完成:三次函數圖形與對稱中心點"
      ],
      "execution_count": 8,
      "outputs": []
    },
    {
      "cell_type": "markdown",
      "metadata": {
        "id": "gAPPiGMnbZaI"
      },
      "source": [
        "##四次函數圖形與f(x)=0的解(採用因式分解型式)"
      ]
    },
    {
      "cell_type": "code",
      "metadata": {
        "colab": {
          "base_uri": "https://localhost:8080/",
          "height": 280
        },
        "id": "YyBZrf8P8q9D",
        "outputId": "c0f93086-adcd-4989-d7c4-9d59d7cec9ef"
      },
      "source": [
        "import matplotlib.pyplot as plt\n",
        "import numpy as np\n",
        "plt.figure(figsize=(4,4),dpi=80) #需調整\n",
        "\n",
        "(a,b,c,d)=(-3,-2,1,3) #解\n",
        "\n",
        "x=np.linspace(-4,4,1001) #(起點,終點,共幾個點包含端點)\n",
        "y=-(x-a)*(x-b)*(x-c)*(x-d)\n",
        "plt.plot(x,y,color=\"red\",linewidth=5)\n",
        "\n",
        "plt.scatter(a,0,color=\"blue\",linewidth=8)\n",
        "plt.scatter(b,0,color=\"blue\",linewidth=8)\n",
        "plt.scatter(c,0,color=\"blue\",linewidth=8)\n",
        "plt.scatter(d,0,color=\"blue\",linewidth=8)\n",
        "\n",
        "ax = plt.gca()  \n",
        "ax.spines['right'].set_color('none')\n",
        "ax.spines['top'].set_color('none')\n",
        "ax.xaxis.set_ticks_position('bottom')\n",
        "ax.spines['bottom'].set_position(('data',0))\n",
        "ax.yaxis.set_ticks_position('left')\n",
        "ax.spines['left'].set_position(('data',0))\n",
        "plt.xlim(-4,4)   #需調整\n",
        "plt.ylim(-30,25)  #需調整\n",
        "plt.show()"
      ],
      "execution_count": 12,
      "outputs": [
        {
          "output_type": "display_data",
          "data": {
            "image/png": "[encoded data removed]",
            "text/plain": [
              "<Figure size 320x320 with 1 Axes>"
            ]
          },
          "metadata": {
            "needs_background": "light"
          }
        }
      ]
    }
  ]
}