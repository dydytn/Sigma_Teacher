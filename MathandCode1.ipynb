{
  "nbformat": 4,
  "nbformat_minor": 0,
  "metadata": {
    "colab": {
      "name": "MathandCode.ipynb",
      "provenance": [],
      "collapsed_sections": [
        "Sl7ZXJsXc_MC",
        "QLXXVwUuSfAX",
        "UsdAtR6tt8Ky",
        "y2k3IhRESPkP",
        "YGY6xrjzVgti",
        "wnsDbQHndiWK",
        "Nn_RK76BxVIo",
        "2iFfGvpWiJjy",
        "89cGqTaLhe66",
        "vv_yAMwMTF25",
        "Gv4FE7o4B6WQ",
        "O3tDRQifHqfo",
        "bn0a-Z14fbS-",
        "TYtU7Q86f1lP",
        "YpTqiu1LgCRh",
        "5HCdzwwZ0omf",
        "t3qZ7nOKjLbp",
        "T8wDq9f-UKDk",
        "TzeJm71ZOTMB",
        "VkuwsZ7fU9Qa",
        "kWkQXziKsqIi",
        "YzpOsCm2Uq0M",
        "xnrvOxbxVUih"
      ],
      "include_colab_link": true
    },
    "kernelspec": {
      "name": "python3",
      "display_name": "Python 3"
    }
  },
  "cells": [
    {
      "cell_type": "markdown",
      "metadata": {
        "id": "view-in-github",
        "colab_type": "text"
      },
      "source": [
        "<a href=\"https://colab.research.google.com/github/dydytn/test/blob/main/MathandCode1.ipynb\" target=\"_parent\"><img src=\"https://colab.research.google.com/assets/colab-badge.svg\" alt=\"Open In Colab\"/></a>"
      ]
    },
    {
      "cell_type": "markdown",
      "metadata": {
        "id": "Sl7ZXJsXc_MC"
      },
      "source": [
        "# ***歡迎光臨 ~~~***"
      ]
    },
    {
      "cell_type": "markdown",
      "metadata": {
        "id": "QLXXVwUuSfAX"
      },
      "source": [
        "##現在時間"
      ]
    },
    {
      "cell_type": "code",
      "metadata": {
        "id": "q1v3BUhPRON9",
        "cellView": "both"
      },
      "source": [
        "#@title\n",
        "import time\n",
        "seconds = time.time()\n",
        "local_time = time.ctime(seconds+8*3600)\n",
        "print(\"現在時間：\", local_time)"
      ],
      "execution_count": null,
      "outputs": []
    },
    {
      "cell_type": "markdown",
      "metadata": {
        "id": "UsdAtR6tt8Ky"
      },
      "source": [
        "#**生日快樂名單**"
      ]
    },
    {
      "cell_type": "code",
      "metadata": {
        "id": "L-DZSiPauHrb",
        "cellView": "form"
      },
      "source": [
        "#@title\n",
        "S=[\"Tom\",\"John\",\"Peter\",\"Alice\",\"Donna\"]\n",
        "for x in S:\n",
        "   print(\"Happy birthday to you.\")\n",
        "   print(\"Happy birthday to you.\")\n",
        "   print(\"Happy birthday,\",\"dear\",x,\".\")\n",
        "   print(\"Happy birthday to you.\")\n",
        "   print(\" \")"
      ],
      "execution_count": null,
      "outputs": []
    },
    {
      "cell_type": "code",
      "metadata": {
        "id": "EUFEdUTs0bbN",
        "cellView": "form"
      },
      "source": [
        "#@title\n",
        "m=1\n",
        "m=int(input(\"請輸入月份數字(1~12):(輸入後請按enter)\"))\n",
        "print(m,\"月份壽星名單:\",end=\"\")\n",
        "friend=[[10,\"佩屏\"],[5,\"韻玉\"],[4,\"曜宇\"],[6,\"采成\"],[2,\"秋萍\"],[3,\"明憲\"],\\\n",
        " [7,\"雅君\"],[8,\"雅雯\"],[11,\"美菱\"],[12,\"惠文\"],[9,\"育亦\"],[10,\"怡皓\"],\\\n",
        " [1,\"靜毓\"],[2,\"宜欣\"],[3,\"宗韋\"],[12,\"雅茹\"],[7,\"琇娥\"],[4,\"淑屏\"],\\\n",
        " [8,\"政年\"],[6,\"羿樂\"],[11,\"亭娥\"],[5,\"怡君\"],[9,\"瓊男\"],[10,\"曜宇\"],\\\n",
        " [3,\"雅慈\"],[4,\"茂元\"],[7,\"怡英\"],[12,\"雅婷\"],[5,\"治威\"],[8,\"宛真\"],\\\n",
        " [6,\"慈成\"],[9,\"雅真\"],[11,\"宛真\"],[1,\"家齊\"],[2,\"玉華\"],[4,\"宜屏\"],\\\n",
        " [5,\"小原\"],[3,\"其胤\"],[9,\"怡恩\"],[10,\"志名\"],[4,\"瑋皓\"],[7,\"俊毓\"],\\\n",
        " [2,\"彥瑋\"],[12,\"韋伶\"],[5,\"偉哲\"],[7,\"佳穎\"],[6,\"皓佐\"],[8,\"俊偉\"],\\\n",
        " [9,\"偉昆\"],[11,\"俊凡\"],[4,\"文華\"],[3,\"建輝\"],[1,\"琇凱\"],[2,\"珊英\"],\\\n",
        " [5,\"淑娟\"],[7,\"潔方\"]]\n",
        "for x in friend:\n",
        "  if x[0]==m:\n",
        "    print(x[1],\",\",end=\"\")\n",
        "print(\" \")\n",
        "print(\" \")"
      ],
      "execution_count": null,
      "outputs": []
    },
    {
      "cell_type": "markdown",
      "metadata": {
        "id": "y2k3IhRESPkP"
      },
      "source": [
        "# **尤拉數 e = 2.71828.....**\n",
        "### 試寫程式~求  $(1+\\frac{1}{n})^n$\n",
        "\n",
        "\n",
        "### 若 n= 100 , 1000 , 10000 , 100000 , 1000000\n",
        "\n",
        "### 則輸出分別為何?\n",
        "\n"
      ]
    },
    {
      "cell_type": "code",
      "metadata": {
        "id": "wpo0yv-3U6cr"
      },
      "source": [
        "for n in [100,1000,10000,100000,1000000]:\n",
        "   print(\"If n=\",n,\"then (1+1/n)**n=\",(1+1/n)**n )"
      ],
      "execution_count": null,
      "outputs": []
    },
    {
      "cell_type": "markdown",
      "metadata": {
        "id": "YGY6xrjzVgti"
      },
      "source": [
        "#**銀行存款**\n",
        "N天後的存款＝A*$(1+\\frac{rate}{365})^N$\n",
        "\n",
        "A=存入的金額\n",
        "\n",
        "rate：代表年利率"
      ]
    },
    {
      "cell_type": "code",
      "metadata": {
        "id": "T4VST1nfchfS",
        "cellView": "form"
      },
      "source": [
        "#@title\n",
        "N=3650  #天數\n",
        "rate=0.02  #年利率\n",
        "A=1000000  #存入的金額\n",
        "print(N,\"天後的存款=\",int(A*(1+rate/365)**N//1),\"元\")"
      ],
      "execution_count": null,
      "outputs": []
    },
    {
      "cell_type": "markdown",
      "metadata": {
        "id": "wnsDbQHndiWK"
      },
      "source": [
        "# **試寫程式求  A*$(1+\\frac{rate}{k})^{Nk}$**\n",
        "A= 1000000\n",
        "\n",
        "rate=0.02\n",
        "\n",
        "N=10\n",
        "\n",
        "若 k= 1 , 4 , 12 , 365\n",
        "\n",
        "則輸出分別為何?"
      ]
    },
    {
      "cell_type": "code",
      "metadata": {
        "id": "_34WMSWHV2CX"
      },
      "source": [
        "N=10\n",
        "rate=0.02\n",
        "A=1000000\n",
        "k=1\n",
        "print(N,\"年後的存款(每年計息)=\",int(A*(1+rate/k)**(k*N)),\"元\")\n",
        "\n",
        "k=4\n",
        "print(N,\"年後的存款(每季計息)=\",int(A*(1+rate/k)**(k*N)),\"元\")\n",
        "\n",
        "k=12\n",
        "print(N,\"年後的存款(每月計息)=\",int(A*(1+rate/k)**(k*N)),\"元\")\n",
        "\n",
        "k=365\n",
        "print(N,\"年後的存款(每天計息)=\",int(A*(1+rate/k)**(k*N)),\"元\")"
      ],
      "execution_count": null,
      "outputs": []
    },
    {
      "cell_type": "markdown",
      "metadata": {
        "id": "Nn_RK76BxVIo"
      },
      "source": [
        "#**三元一次的聯立方程組(例題)**"
      ]
    },
    {
      "cell_type": "code",
      "metadata": {
        "id": "8FYpgUrnuT4u"
      },
      "source": [
        "# 三元一次的聯立方程組 (例題1)\n",
        "from sympy import Symbol, solve\n",
        "x=Symbol('x')\n",
        "y=Symbol('y')\n",
        "z=Symbol('z')\n",
        "\n",
        "print(\"例題1\")\n",
        "print(\"滿足 x+y+z=9 與 2x+3y+4z=29  與 3x+2y-z=8 之解如下:\")\n",
        "print(solve([x+y+z-9,2*x+3*y+4*z-29,3*x+2*y-z-8]))"
      ],
      "execution_count": null,
      "outputs": []
    },
    {
      "cell_type": "code",
      "metadata": {
        "id": "ZAxDiuksvwFM"
      },
      "source": [
        "# 三元一次的聯立方程組 (例題2)\n",
        "from sympy import Symbol, solve\n",
        "x=Symbol('x')\n",
        "y=Symbol('y')\n",
        "z=Symbol('z')\n",
        "\n",
        "print(\"例題2\")\n",
        "print(\"滿足 x+y+2z=7 與 2x-y+3z=5  與 4x+y+7z=10 之解如下:\")\n",
        "print(solve([x+y+2*z-7,2*x-y+3*z-5,4*x+y+7*z-10]))"
      ],
      "execution_count": null,
      "outputs": []
    },
    {
      "cell_type": "code",
      "metadata": {
        "id": "iEZn9mn6uiiq"
      },
      "source": [
        "# 三元一次的聯立方程組 (例題3)\n",
        "from sympy import Symbol, solve\n",
        "x=Symbol('x')\n",
        "y=Symbol('y')\n",
        "z=Symbol('z')\n",
        "\n",
        "print(\"例題3\")\n",
        "print(\"滿足 x-y+z=0 與 x+y+2z=2  與 3x+y+5z=4 之解如下:\")\n",
        "print(solve([x-y+z,x+y+2*z-2,3*x+y+5*z-4]))"
      ],
      "execution_count": null,
      "outputs": []
    },
    {
      "cell_type": "code",
      "metadata": {
        "id": "LcT-NTCrxg7z"
      },
      "source": [
        "# 三元一次的聯立方程組 (演練6)\n",
        "from sympy import Symbol, solve\n",
        "x=Symbol('x')\n",
        "y=Symbol('y')\n",
        "z=Symbol('z')\n",
        "\n",
        "print(\"演練6\")\n",
        "print(\"滿足 x+3y+2z=2 與 3x-y+2z=1  與 2x+2y-z=-2 之解如下:\")\n",
        "print(solve([x+3*y+2*z-2,3*x-y+2*z-1,2*x+2*y-z+2]))"
      ],
      "execution_count": null,
      "outputs": []
    },
    {
      "cell_type": "code",
      "metadata": {
        "id": "a5wx1BvIqCTE"
      },
      "source": [
        "#解多元一次的聯立方程組\n",
        "from sympy import Symbol, solve\n",
        "x=Symbol('x')\n",
        "y=Symbol('y')\n",
        "z=Symbol('z')\n",
        "\n",
        "print(\"例1\")\n",
        "print(\"滿足 2x+3y-36=0 與 3x+4y-50=0 之解如下:\")\n",
        "print(solve([2*x+3*y-36,3*x+4*y-50]))\n",
        "\n",
        "print(\" \")  # 空1行\n",
        "\n",
        "print(\"例2\")\n",
        "print(\"滿足 x+y+3=0 與 y+z-1=0  與 z+x-6=0 之解如下:\")\n",
        "print(solve([x+y+3,y+z-1,z+x-6]))"
      ],
      "execution_count": null,
      "outputs": []
    },
    {
      "cell_type": "markdown",
      "metadata": {
        "id": "2iFfGvpWiJjy"
      },
      "source": [
        "#**正整數1,2,3,....,N,試求奇數積與偶數積之和?**\n",
        "##例如N=6,試求1x3x5+2x4x6=?"
      ]
    },
    {
      "cell_type": "code",
      "metadata": {
        "id": "QhrM7I3DQl65"
      },
      "source": [
        "N=50 #正偶數\n",
        "Num=[i for i in range(1,N+1,1)]\n",
        "a=1;b=1\n",
        "#print(Num)\n",
        "for i in range(0,N,1):\n",
        "  if (i%2==0):\n",
        "    a=a*Num[i]\n",
        "  if (i%2==1):\n",
        "    b=b*Num[i]\n",
        "print(\"解法一\")\n",
        "print(\"N=\",N,\",其奇數積與偶數積之和=\",a+b)\n",
        "\n",
        "a=1;b=1\n",
        "for i in range(1,N+1,1):\n",
        "  if (i%2==1):\n",
        "    a=a*i\n",
        "  else:\n",
        "    b=b*i\n",
        "print(\"解法二\")\n",
        "print(\"N=\",N,\",其奇數積與偶數積之和=\",a+b)"
      ],
      "execution_count": null,
      "outputs": []
    },
    {
      "cell_type": "markdown",
      "metadata": {
        "id": "89cGqTaLhe66"
      },
      "source": [
        "#**輸入月份數字(1~12),輸出其月份英文名稱縮寫**"
      ]
    },
    {
      "cell_type": "code",
      "metadata": {
        "id": "ls3uRmoulRXu"
      },
      "source": [
        "x=int(input(\"請輸入月份數字(1~12):(輸入後請按enter)\"))\n",
        "month=\"JanFebMarAprMayJunJulAugSepOctNovDec\"\n",
        "print(str(x)+\"月其英文名稱:\",month[3*x-3:3*x])"
      ],
      "execution_count": null,
      "outputs": []
    },
    {
      "cell_type": "markdown",
      "metadata": {
        "id": "vv_yAMwMTF25"
      },
      "source": [
        "#**攝氏及華氏溫度的轉換**\n",
        "###華氏=攝氏*(9/5)+32\n",
        "###攝氏=(華氏-32)*5/9"
      ]
    },
    {
      "cell_type": "code",
      "metadata": {
        "id": "nlCxVf_6Mau1"
      },
      "source": [
        "x=input(\"請輸入帶溫度表示符號的溫度值(例如:32C):\")\n",
        "if x[-1] in [\"C\",\"c\"]:\n",
        "  y=1.8*float(x[0:-1])+32\n",
        "  print(x,\"=\",int(y),\"F\")\n",
        "elif x[-1] in [\"F\",\"f\"]:\n",
        "  y=(float(x[0:-1])-32)/1.8\n",
        "  print(x,\"=\",int(y),\"C\")\n",
        "else:\n",
        "  print(\"輸入有誤\")\n"
      ],
      "execution_count": null,
      "outputs": []
    },
    {
      "cell_type": "markdown",
      "metadata": {
        "id": "Gv4FE7o4B6WQ"
      },
      "source": [
        "#**解一元二次方程式 $ax^2+bx+c=0$**"
      ]
    },
    {
      "cell_type": "code",
      "metadata": {
        "id": "HccEdOg9B5O_"
      },
      "source": [
        "print(\"解一元二次方程式 a*x*x+b*x+c=0\")\n",
        "a,b,c=eval(input(\"Please enter the coefficients(a,b,c):\"))\n",
        "print(a,b,c)\n",
        "D=b*b-4*a*c\n",
        "if (D>0 and a!=0):\n",
        "  x1=(-1*b+D**0.5)/(2.0*a)\n",
        "  x2=(-1*b-D**0.5)/(2.0*a)\n",
        "  print(\"有兩相異實數解:\",x1,\"與\",x2)\n",
        "elif (D==0 and a!=0):\n",
        "  x1=-1*b/(2.0*a)\n",
        "  print(\"有兩相等實數解\",x1)\n",
        "elif D<0:\n",
        "  print(\"無實數解\")\n",
        "else:\n",
        "  print(\"輸入有誤\")\n"
      ],
      "execution_count": null,
      "outputs": []
    },
    {
      "cell_type": "markdown",
      "metadata": {
        "id": "O3tDRQifHqfo"
      },
      "source": [
        "# **梅森數 與 梅森質數（Mersenne prime）**\n",
        "##**梅森數是指形如 $2^n-1$ 的數，記為 $M_n$ ；如果一個梅森數是質數,則稱它為梅森質數截至2018年12月，已知的梅森質數共有51個。已知最大的梅森質數是 $2^{82589933}-1$**"
      ]
    },
    {
      "cell_type": "markdown",
      "metadata": {
        "id": "bn0a-Z14fbS-"
      },
      "source": [
        "## *前N個梅森數*"
      ]
    },
    {
      "cell_type": "code",
      "metadata": {
        "id": "yDRrqe9sIfE9"
      },
      "source": [
        "#前N個梅森數\n",
        "N=100\n",
        "#N=int(input(\"Enter a number: \"))\n",
        "print(\"前\",N,\"個梅森數:\",end=\"\")\n",
        "for i in range(1,N+1,1):\n",
        "  print(2**i-1,\",\",end=\" \")"
      ],
      "execution_count": null,
      "outputs": []
    },
    {
      "cell_type": "markdown",
      "metadata": {
        "id": "TYtU7Q86f1lP"
      },
      "source": [
        "##*判斷質數與否*"
      ]
    },
    {
      "cell_type": "code",
      "metadata": {
        "id": "B7YaEMTXlEt1"
      },
      "source": [
        "#判斷質數與否\n",
        "# Program to check if a number is prime or not\n",
        "\n",
        "num = 407\n",
        "\n",
        "# To take input from the user\n",
        "num = int(input(\"Enter a number: \"))\n",
        "\n",
        "# prime numbers are greater than 1\n",
        "if num > 1:\n",
        "   # check for factors\n",
        "   for i in range(2,int(num**0.5)+1,1):\n",
        "       if (num % i) == 0:\n",
        "           print(num,\"is not a prime number\")\n",
        "           print(i,\"*\",num//i,\"=\",num)\n",
        "           break\n",
        "   else:\n",
        "       print(num,\"is a prime number\")\n",
        "       \n",
        "# if input number is less than\n",
        "# or equal to 1, it is not prime\n",
        "else:\n",
        "   print(num,\"is not a prime number\")"
      ],
      "execution_count": null,
      "outputs": []
    },
    {
      "cell_type": "code",
      "metadata": {
        "id": "nY_gPQT40BW7"
      },
      "source": [
        "#從1到N的正整數中為質數者(其中N>=2)\n",
        "N=50\n",
        "#N=int(input(\"Enter a number: \"))\n",
        "print(\"從1到\",N,\"的正整數中為質數者:\",end=\"\")\n",
        "for x in range(2,N+1,1):\n",
        "    # check for factors\n",
        "     for i in range(2,int(x**0.5)+1,1):\n",
        "        if (x % i) == 0:\n",
        "            #print(x,\"is not a prime number\")\n",
        "            #print(i,\"*\",x//i,\"=\",x)\n",
        "            break\n",
        "     else:\n",
        "        #print(x,\"is a prime number\")\n",
        "        print(x,\",\",end=\" \") "
      ],
      "execution_count": null,
      "outputs": []
    },
    {
      "cell_type": "markdown",
      "metadata": {
        "id": "YpTqiu1LgCRh"
      },
      "source": [
        "##*找前N個梅森數中的質數*"
      ]
    },
    {
      "cell_type": "code",
      "metadata": {
        "id": "tIReAZDh7w5f"
      },
      "source": [
        "#找前N個梅森數中的質數\n",
        "N=50\n",
        "#N=int(input(\"Enter a number: \"))\n",
        "print(\"前\",N,\"個梅森數:\",end=\"\")\n",
        "for i in range(1,N+1,1):\n",
        "  print(2**i-1,\",\",end=\" \")\n",
        "print(\"\")\n",
        "\n",
        "print(\"前\",N,\"個梅森數中是質數者:\",end=\"\")\n",
        "for x in range(2,N+1,1):\n",
        "     for i in range(2,int((2**x-1)**0.5)+1,1):\n",
        "        if((2**x-1)%i)==0:\n",
        "            break\n",
        "     else:\n",
        "        print(2**x-1,\",\",end=\" \")\n",
        "print(\"\")\n"
      ],
      "execution_count": null,
      "outputs": []
    },
    {
      "cell_type": "markdown",
      "metadata": {
        "id": "5HCdzwwZ0omf"
      },
      "source": [
        "#**設m,n為小於或等於4的相異正整數且a,b為非零實數﹒**\n",
        "#**已知函數 $f(x)=ax^m$ 與 $g(x)=bx^n$ 的圖形恰有3個相異交點﹐**\n",
        "#**請選出可能的選項:**\n",
        "##**(1)m,n皆為偶數且a,b同號 (2)m,n皆為偶數且a,b異號**\n",
        "##**(3)m,n皆為奇數且a,b同號 (4)m,n皆為奇數且a,b異號**\n",
        "##**(5)m,n為一奇一偶﹒** \n",
        "###**(106學測)(答:1,3)**"
      ]
    },
    {
      "cell_type": "code",
      "metadata": {
        "id": "63SiMp_K0uk_"
      },
      "source": [
        "#@markdown \n",
        "import numpy as np\n",
        "import matplotlib.pyplot as plt\n",
        "plt.figure(figsize=(12,6),dpi=80)\n",
        "plt.subplot(1,2,1)    #作圖1\n",
        "plt.title(\"(a,b)=(1,2);(m,n)=(2,4)\") #標題名稱\n",
        "(a,b)=(1,2);(m,n)=(2,4)\n",
        "x=np.linspace(-1,1,100)\n",
        "y1=a*x**m\n",
        "y2=b*x**n\n",
        "plt.plot(x,y1,label=\"$y=ax^m$\")\n",
        "plt.plot(x,y2,label=\"$y=bx^n$\")\n",
        "plt.legend(loc=\"upper left\")\n",
        "ax = plt.gca()  \n",
        "ax.spines['right'].set_color('none')\n",
        "ax.spines['top'].set_color('none')\n",
        "ax.xaxis.set_ticks_position('bottom')\n",
        "ax.spines['bottom'].set_position(('data',0))\n",
        "ax.yaxis.set_ticks_position('left')\n",
        "ax.spines['left'].set_position(('data',0))\n",
        "\n",
        "plt.subplot(1,2,2)    #作圖2\n",
        "plt.title(\"(a,b)=(1,2);(m,n)=(2,4)\") #標題名稱\n",
        "(a,b)=(1,2);(m,n)=(1,3)\n",
        "x=np.linspace(-1,1,100)\n",
        "y1=a*x**m\n",
        "y2=b*x**n\n",
        "plt.plot(x,y1,label=\"$y=ax^m$\")\n",
        "plt.plot(x,y2,label=\"$y=bx^n$\")\n",
        "plt.legend(loc=\"upper left\")\n",
        "ax = plt.gca()  \n",
        "ax.spines['right'].set_color('none')\n",
        "ax.spines['top'].set_color('none')\n",
        "ax.xaxis.set_ticks_position('bottom')\n",
        "ax.spines['bottom'].set_position(('data',0))\n",
        "ax.yaxis.set_ticks_position('left')\n",
        "ax.spines['left'].set_position(('data',0))\n",
        "plt.show()"
      ],
      "execution_count": null,
      "outputs": []
    },
    {
      "cell_type": "markdown",
      "metadata": {
        "id": "t3qZ7nOKjLbp"
      },
      "source": [
        "# **謝爾賓斯基三角形（Sierpinski triangle）是一種碎形，**\n",
        "\n",
        "# **由波蘭數學家謝爾賓斯基提出。它是自相似集的例子。**\n",
        "\n",
        "步驟如下:\n",
        "\n",
        "1.取一個實心的三角形。（多數使用等邊三角形）\n",
        "\n",
        "2.沿三邊中點的連線，將它分成四個小三角形。\n",
        "\n",
        "3.去掉中間的那一個小三角形。\n",
        "\n",
        "4.對其餘三個小三角形重複1。"
      ]
    },
    {
      "cell_type": "code",
      "metadata": {
        "id": "-ke2Z8HljTqH"
      },
      "source": [
        "#(Sierpinski triangle)(謝爾賓斯基三角形)(單色版)\n",
        "import numpy as np\n",
        "import matplotlib.pyplot as plt\n",
        "import random\n",
        "plt.figure(figsize=(6,6),dpi=80)\n",
        "def F(x1,y1,x2,y2,x3,y3):\n",
        "    if((x2-x1) <0.05) :return    \n",
        "    (x4,y4)=((x1+x2)/2,(y1+y2)/2) \n",
        "    (x5,y5)=((x2+x3)/2,(y2+y3)/2)\n",
        "    (x6,y6)=((x3+x1)/2,(y3+y1)/2)\n",
        "    X=[x4,x5,x6]\n",
        "    Y=[y4,y5,y6]\n",
        "    plt.fill(X,Y,color=\"white\")\n",
        "    F(x1,y1,x4,y4,x6,y6)\n",
        "    F(x4,y4,x2,y2,x5,y5)\n",
        "    F(x6,y6,x5,y5,x3,y3)\n",
        "\n",
        "(x1,y1)=(0,0)\n",
        "(x2,y2)=(1,0)\n",
        "(x3,y3)=(0.5,0.5*3**0.5)\n",
        "\n",
        "X=[x1,x2,x3]\n",
        "Y=[y1,y2,y3]\n",
        "plt.fill(X,Y,color=\"blue\")\n",
        "F(x1,y1,x2,y2,x3,y3)\n",
        "plt.show()"
      ],
      "execution_count": null,
      "outputs": []
    },
    {
      "cell_type": "code",
      "metadata": {
        "id": "tqhGWQ5mjVdF"
      },
      "source": [
        "#(Sierpinski triangle)(謝爾賓斯基三角形)(彩色版)\n",
        "import numpy as np\n",
        "import matplotlib.pyplot as plt\n",
        "import random\n",
        "plt.figure(figsize=(6,6),dpi=80)\n",
        "def F(x1,y1,x2,y2,x3,y3):\n",
        "    if((x2-x1) <0.05) :return    \n",
        "    (x4,y4)=((x1+x2)/2,(y1+y2)/2) \n",
        "    (x5,y5)=((x2+x3)/2,(y2+y3)/2)\n",
        "    (x6,y6)=((x3+x1)/2,(y3+y1)/2)\n",
        "    X=[x4,x5,x6]\n",
        "    Y=[y4,y5,y6]\n",
        "    plt.fill(X,Y)\n",
        "    F(x1,y1,x4,y4,x6,y6)\n",
        "    F(x4,y4,x2,y2,x5,y5)\n",
        "    F(x6,y6,x5,y5,x3,y3)\n",
        "\n",
        "(x1,y1)=(0,0)\n",
        "(x2,y2)=(1,0)\n",
        "(x3,y3)=(0.5,0.5*3**0.5)\n",
        "\n",
        "X=[x1,x2,x3]\n",
        "Y=[y1,y2,y3]\n",
        "plt.fill(X,Y,color=\"yellow\")\n",
        "F(x1,y1,x2,y2,x3,y3)\n",
        "plt.show()"
      ],
      "execution_count": null,
      "outputs": []
    },
    {
      "cell_type": "code",
      "metadata": {
        "id": "VNQQYFhEjV6m"
      },
      "source": [
        "#(Sierpinski triangle)(謝爾賓斯基三角形)(線條版)\n",
        "import numpy as np\n",
        "import matplotlib.pyplot as plt\n",
        "import random\n",
        "plt.figure(figsize=(6,6),dpi=80)\n",
        "def F(x1,y1,x2,y2,x3,y3):\n",
        "    if((x2-x1) <0.05) :return    \n",
        "    (x4,y4)=((x1+x2)/2,(y1+y2)/2) \n",
        "    (x5,y5)=((x2+x3)/2,(y2+y3)/2)\n",
        "    (x6,y6)=((x3+x1)/2,(y3+y1)/2)\n",
        "    X=[x4,x5,x6,x4]\n",
        "    Y=[y4,y5,y6,y4]\n",
        "    plt.plot(X,Y,color=\"black\")\n",
        "    F(x1,y1,x4,y4,x6,y6)\n",
        "    F(x4,y4,x2,y2,x5,y5)\n",
        "    F(x6,y6,x5,y5,x3,y3)\n",
        "\n",
        "(x1,y1)=(0,0)\n",
        "(x2,y2)=(1,0)\n",
        "(x3,y3)=(0.5,0.5*3**0.5)\n",
        "\n",
        "X=[x1,x2,x3,x1]\n",
        "Y=[y1,y2,y3,y1]\n",
        "plt.plot(X,Y,color=\"black\")\n",
        "F(x1,y1,x2,y2,x3,y3)\n",
        "plt.show()"
      ],
      "execution_count": null,
      "outputs": []
    },
    {
      "cell_type": "markdown",
      "metadata": {
        "id": "T8wDq9f-UKDk"
      },
      "source": [
        "#**遞迴(碎形樹)**"
      ]
    },
    {
      "cell_type": "code",
      "metadata": {
        "id": "B9PciFc3rQbS"
      },
      "source": [
        "#遞迴(碎形樹)(單色版)\n",
        "import numpy as np\n",
        "import matplotlib.pyplot as plt\n",
        "plt.figure(figsize=(6,6),dpi=80)\n",
        "pi=3.14159     #圓周率\n",
        "(h,k,r,a)=(0,0,500,pi/2)  #(基準點之x,y坐標,長度,方向角)\n",
        "pi=3.14159     #圓周率\n",
        "def tree(h,k,r,a):\n",
        "    if r <1 :return\n",
        "    x1=h+r*np.cos(a) ; y1=k+r*np.sin(a)\n",
        "    X=[h,x1]\n",
        "    Y=[k,y1]\n",
        "    plt.plot(X,Y,color=\"green\",linewidth=2)    #畫樹的主幹\n",
        "\n",
        "    tree(x1,y1,0.6*r,a-pi/3)  #樹的右枝\n",
        "    tree(x1,y1,0.5*r,a+pi/3)  #樹的左枝\n",
        "tree(h,k,r,a)\n"
      ],
      "execution_count": null,
      "outputs": []
    },
    {
      "cell_type": "code",
      "metadata": {
        "id": "mfpPBZr5xkuV"
      },
      "source": [
        "#遞迴(碎形樹)(綠枝紅葉版)\n",
        "import numpy as np\n",
        "import matplotlib.pyplot as plt\n",
        "plt.figure(figsize=(6,6),dpi=80)\n",
        "pi=3.14159     #圓周率\n",
        "(h,k,r,a)=(0,0,500,pi/2)  #(基準點之x,y坐標,長度,方向角)\n",
        "pi=3.14159     #圓周率\n",
        "def tree(h,k,r,a):\n",
        "    if r <1 :return\n",
        "    if r >=10 :\n",
        "      x1=h+r*np.cos(a) ; y1=k+r*np.sin(a)\n",
        "      X=[h,x1]\n",
        "      Y=[k,y1]\n",
        "      plt.plot(X,Y,color=\"green\",linewidth=1)    #畫樹的主幹\n",
        "    \n",
        "    if r <10 :\n",
        "      x1=h+r*np.cos(a) ; y1=k+r*np.sin(a)\n",
        "      X=[h,x1]\n",
        "      Y=[k,y1]\n",
        "      plt.plot(X,Y,color=\"red\",linewidth=1)    #畫樹的主幹或紅葉\n",
        "\n",
        "    tree(x1,y1,0.6*r,a-pi/3)  #樹的右枝\n",
        "    tree(x1,y1,0.5*r,a+pi/3)  #樹的左枝\n",
        "tree(h,k,r,a)\n"
      ],
      "execution_count": null,
      "outputs": []
    },
    {
      "cell_type": "code",
      "metadata": {
        "id": "mZYl_lKnoydo"
      },
      "source": [
        "#遞迴(碎形樹)(綠枝紅葉進階版)\n",
        "import numpy as np\n",
        "import matplotlib.pyplot as plt\n",
        "plt.figure(figsize=(6,6),dpi=80)\n",
        "pi=3.14159     #圓周率\n",
        "(h,k,r,a)=(0,0,500,pi/2)  #(基準點之x,y坐標,長度,方向角)\n",
        "pi=3.14159     #圓周率\n",
        "def tree(h,k,r,a):\n",
        "    if r <1 :return\n",
        "    if r >=10 :\n",
        "      x1=h+r*np.cos(a) ; y1=k+r*np.sin(a)\n",
        "      X=[h,x1]\n",
        "      Y=[k,y1]\n",
        "      plt.plot(X,Y,color=\"green\",linewidth=int(r/50)+1)    #畫樹的主幹\n",
        "    \n",
        "    if r <10 :\n",
        "      x1=h+r*np.cos(a) ; y1=k+r*np.sin(a)\n",
        "      X=[h,x1]\n",
        "      Y=[k,y1]\n",
        "      plt.plot(X,Y,color=\"red\",linewidth=int(r/50)+1)    #畫樹的主幹或紅葉\n",
        "\n",
        "    tree(x1,y1,0.6*r,a-pi/3)  #樹的右枝\n",
        "    tree(x1,y1,0.5*r,a+pi/3)  #樹的左枝\n",
        "tree(h,k,r,a)"
      ],
      "execution_count": null,
      "outputs": []
    },
    {
      "cell_type": "markdown",
      "metadata": {
        "id": "TzeJm71ZOTMB"
      },
      "source": [
        "# **科赫曲線（Koch curve）**\n",
        "是一種碎形,其形態似雪花，又稱科赫雪花（Koch snowflake）\n"
      ]
    },
    {
      "cell_type": "markdown",
      "metadata": {
        "id": "VkuwsZ7fU9Qa"
      },
      "source": [
        "##**科赫曲線（Koch curve）**"
      ]
    },
    {
      "cell_type": "code",
      "metadata": {
        "id": "vOxQBQFWr2cx"
      },
      "source": [
        "#遞迴(雪花)(單色版教學解)(以邊長 r<1 當限制條件)\n",
        "import numpy as np\n",
        "import matplotlib.pyplot as plt\n",
        "plt.figure(figsize=(6,6),dpi=80)\n",
        "pi=3.14159     #圓周率\n",
        "(h,k,r,a)=(0,0,3,0)  #(基準點之x,y坐標,長度,方向角)\n",
        "\n",
        "def snow(h,k,r,a):\n",
        "    if r <1 :return\n",
        "    x1=h+(1/3)*r*np.cos(a)           ; y1=k+(1/3)*r*np.sin(a)\n",
        "    x2=h+(3**0.5/3)*r*np.cos(a-pi/6) ; y2=k+(3**0.5/3)*r*np.sin(a-pi/6)\n",
        "    x3=h+(2/3)*r*np.cos(a)           ; y3=k+(2/3)*r*np.sin(a)\n",
        "    x4=h+r*np.cos(a)                 ; y4=k+r*np.sin(a)\n",
        "    X=[h,x4]\n",
        "    Y=[k,y4]\n",
        "    plt.plot(X,Y,color=\"blue\",linewidth=3)    #畫一線段\n",
        "    #plt.plot(X,Y,linewidth=5)    #畫一線段\n",
        "    \n",
        "    X=[x1,x3]\n",
        "    Y=[y1,y3]\n",
        "    plt.plot(X,Y,color=\"white\",linewidth=3)   #三等份,並將中間的線段擦掉\n",
        "    \n",
        "    X=[x1,x2,x3]\n",
        "    Y=[y1,y2,y3]\n",
        "    plt.plot(X,Y,color=\"blue\",linewidth=3)\n",
        "    #plt.plot(X,Y,linewidth=5)\n",
        "    \n",
        "    snow(h,k,r/3,a)\n",
        "    snow(x1,y1,r/3,a-pi/3)\n",
        "    snow(x2,y2,r/3,a+pi/3)\n",
        "    snow(x3,y3,r/3,a)\n",
        "snow(h,k,r,a)\n",
        "snow(h+r,k,r,a+2*pi/3)\n",
        "snow(h+r/2,k+0.5*r*3**0.5,r,a+4*pi/3)\n"
      ],
      "execution_count": null,
      "outputs": []
    },
    {
      "cell_type": "code",
      "metadata": {
        "id": "aljU1c3JtchY"
      },
      "source": [
        "#遞迴(雪花)(彩色版)(以邊長 r<1 當限制條件)\n",
        "import numpy as np\n",
        "import matplotlib.pyplot as plt\n",
        "plt.figure(figsize=(6,6),dpi=80)\n",
        "pi=3.14159     #圓周率\n",
        "(h,k,r,a)=(0,0,9,0)  #(基準點之x,y坐標,長度,方向角)\n",
        "\n",
        "def snow(h,k,r,a):\n",
        "    if r <1 :return\n",
        "    x1=h+(1/3)*r*np.cos(a)           ; y1=k+(1/3)*r*np.sin(a)\n",
        "    x2=h+(3**0.5/3)*r*np.cos(a-pi/6) ; y2=k+(3**0.5/3)*r*np.sin(a-pi/6)\n",
        "    x3=h+(2/3)*r*np.cos(a)           ; y3=k+(2/3)*r*np.sin(a)\n",
        "    x4=h+r*np.cos(a)                 ; y4=k+r*np.sin(a)\n",
        "    X=[h,x4]\n",
        "    Y=[k,y4]\n",
        "    plt.plot(X,Y,linewidth=3)    #畫一線段\n",
        "        \n",
        "    X=[x1,x3]\n",
        "    Y=[y1,y3]\n",
        "    plt.plot(X,Y,color=\"white\",linewidth=6)   #三等份,並將中間的線段擦掉\n",
        "    \n",
        "    X=[x1,x2,x3]\n",
        "    Y=[y1,y2,y3]\n",
        "    plt.plot(X,Y,linewidth=3)\n",
        "       \n",
        "    snow(h,k,r/3,a)\n",
        "    snow(x1,y1,r/3,a-pi/3)\n",
        "    snow(x2,y2,r/3,a+pi/3)\n",
        "    snow(x3,y3,r/3,a)\n",
        "snow(h,k,r,a)\n",
        "snow(h+r,k,r,a+2*pi/3)\n",
        "snow(h+r/2,k+0.5*r*3**0.5,r,a+4*pi/3)"
      ],
      "execution_count": null,
      "outputs": []
    },
    {
      "cell_type": "code",
      "metadata": {
        "id": "f_NC_XZQb_rO"
      },
      "source": [
        "#遞迴(雪花)(正方形)(彩色版)(以邊長 r<1 當限制條件)\n",
        "import numpy as np\n",
        "import matplotlib.pyplot as plt\n",
        "plt.figure(figsize=(6,6),dpi=80)\n",
        "pi=3.14159     #圓周率\n",
        "(h,k,r,a)=(0,0,3,0)  #(基準點之x,y坐標,長度,方向角)\n",
        "\n",
        "def snow(h,k,r,a):\n",
        "    if r <1 :return\n",
        "    x1=h+(1/3)*r*np.cos(a)           ; y1=k+(1/3)*r*np.sin(a)\n",
        "    x2=h+(3**0.5/3)*r*np.cos(a-pi/6) ; y2=k+(3**0.5/3)*r*np.sin(a-pi/6)\n",
        "    x3=h+(2/3)*r*np.cos(a)           ; y3=k+(2/3)*r*np.sin(a)\n",
        "    x4=h+r*np.cos(a)                 ; y4=k+r*np.sin(a)\n",
        "    X=[h,x4]\n",
        "    Y=[k,y4]\n",
        "    plt.plot(X,Y,linewidth=4)    #畫一線段\n",
        "        \n",
        "    X=[x1,x3]\n",
        "    Y=[y1,y3]\n",
        "    plt.plot(X,Y,color=\"white\",linewidth=6)   #三等份,並將中間的線段擦掉\n",
        "    \n",
        "    X=[x1,x2,x3]\n",
        "    Y=[y1,y2,y3]\n",
        "    plt.plot(X,Y,linewidth=4)\n",
        "       \n",
        "    snow(h,k,r/3,a)\n",
        "    snow(x1,y1,r/3,a-pi/3)\n",
        "    snow(x2,y2,r/3,a+pi/3)\n",
        "    snow(x3,y3,r/3,a)\n",
        "snow(h,k,r,a)\n",
        "snow(h+r,k,r,a+0.5*pi)\n",
        "snow(h+r,k+r,r,a+pi)\n",
        "snow(h,k+r,r,a+1.5*pi)"
      ],
      "execution_count": null,
      "outputs": []
    },
    {
      "cell_type": "markdown",
      "metadata": {
        "id": "kWkQXziKsqIi"
      },
      "source": [
        "## **大衛星（Star of David‬‎）**\n",
        "又稱六芒星、大衛之星、所羅門之星、所羅門封印、希伯來之星、猶太星等，又或者直接稱為六角星），是猶太教和猶太文化的標誌。以色列建國後將大衛星放在以色列國旗上，因此大衛星也成為了以色列的象徵。"
      ]
    },
    {
      "cell_type": "code",
      "metadata": {
        "id": "R_lLiz5prtM6"
      },
      "source": [
        "#遞迴(雪花)(大衛之星)(以邊長 r<1 當限制條件)\n",
        "import numpy as np\n",
        "import matplotlib.pyplot as plt\n",
        "plt.figure(figsize=(6,6),dpi=80)\n",
        "pi=3.14159     #圓周率\n",
        "(h,k,r,a)=(0,0,2,0)  #(基準點之x,y坐標,長度,方向角)\n",
        "\n",
        "def snow(h,k,r,a):\n",
        "    if r <1 :return\n",
        "    x1=h+(1/3)*r*np.cos(a)           ; y1=k+(1/3)*r*np.sin(a)\n",
        "    x2=h+(3**0.5/3)*r*np.cos(a-pi/6) ; y2=k+(3**0.5/3)*r*np.sin(a-pi/6)\n",
        "    x3=h+(2/3)*r*np.cos(a)           ; y3=k+(2/3)*r*np.sin(a)\n",
        "    x4=h+r*np.cos(a)                 ; y4=k+r*np.sin(a)\n",
        "    X=[h,x4]\n",
        "    Y=[k,y4]\n",
        "    plt.plot(X,Y,color=\"blue\",linewidth=3)    #畫一線段\n",
        "    #plt.plot(X,Y,linewidth=5)    #畫一線段\n",
        "    \n",
        "    X=[x1,x3]\n",
        "    Y=[y1,y3]\n",
        "    plt.plot(X,Y,color=\"white\",linewidth=6)   #三等份,並將中間的線段擦掉\n",
        "    \n",
        "    X=[x1,x2,x3]\n",
        "    Y=[y1,y2,y3]\n",
        "    plt.plot(X,Y,color=\"blue\",linewidth=3)\n",
        "    #plt.plot(X,Y,linewidth=5)\n",
        "    \n",
        "    snow(h,k,r/3,a)\n",
        "    snow(x1,y1,r/3,a-pi/3)\n",
        "    snow(x2,y2,r/3,a+pi/3)\n",
        "    snow(x3,y3,r/3,a)\n",
        "snow(h,k,r,a)\n",
        "snow(h+r,k,r,a+2*pi/3)\n",
        "snow(h+r/2,k+0.5*r*3**0.5,r,a+4*pi/3)"
      ],
      "execution_count": null,
      "outputs": []
    },
    {
      "cell_type": "markdown",
      "metadata": {
        "id": "YzpOsCm2Uq0M"
      },
      "source": [
        "# **彈珠檯+二項分佈+數學期望值**"
      ]
    },
    {
      "cell_type": "code",
      "metadata": {
        "id": "qh-yHxFfmWvq"
      },
      "source": [
        "# 彈珠檯+二項分佈+數學期望值(步驟1)\n",
        "import random ; import numpy as np ; import matplotlib.pyplot as plt\n",
        "plt.figure(figsize=(5,9),dpi=80)\n",
        "H=15    #有H層的彈珠檯,H必須為奇數\n",
        "K=H*2   #底座高為K\n",
        "N=1     #有N顆彈珠,N值不可太大\n",
        "R=H-1   #有R個路口,決定向右下或左下移動\n",
        "T=[]    #儲存每一次彈珠落在哪個x坐標位置的暫存區\n",
        "\n",
        "for i in range(1,H+1,1):\n",
        "    for j in range(1,i+1,1):\n",
        "        x=-i+2*j-1      #釘子的x坐標\n",
        "        y=H+1-i+K       #釘子的y坐標\n",
        "        plt.scatter(x,y,color=\"blue\",linewidth=1)  #畫出釘子\n",
        "\n",
        "for i in range(1,H-1+1,1):\n",
        "    X=[2*i-H,2*i-H]\n",
        "    Y=[  0  ,  K+1]\n",
        "    plt.plot(X,Y,color=\"brown\",linewidth=3)    #畫出底座內的隔板\n",
        "\n",
        "X=[ -1,-1*H,-1*H,H,  H,  1]\n",
        "Y=[H+K, K+1,   0,0,K+1,H+K]\n",
        "plt.plot(X,Y,color=\"green\",linewidth=3)        #畫出邊界\n",
        "\n",
        "plt.show()"
      ],
      "execution_count": null,
      "outputs": []
    },
    {
      "cell_type": "code",
      "metadata": {
        "id": "QRDO6EUbmkBJ"
      },
      "source": [
        "# 彈珠檯+二項分佈+數學期望值(步驟2)\n",
        "import random ; import numpy as np ; import matplotlib.pyplot as plt\n",
        "plt.figure(figsize=(5,9),dpi=80)\n",
        "H=15    #有H層的彈珠檯,H必須為奇數\n",
        "K=H*2  #底座高為K\n",
        "N=100    #有N顆彈珠,N值不可太大\n",
        "R=H-1  #有R個路口,決定向右下或左下移動\n",
        "T=[]   #儲存每一次彈珠落在哪個x坐標位置的暫存區\n",
        "\n",
        "for i in range(1,H+1,1):\n",
        "    for j in range(1,i+1,1):\n",
        "        x=-i+2*j-1      #釘子的x坐標\n",
        "        y=H+1-i+K       #釘子的y坐標\n",
        "        plt.scatter(x,y,color=\"blue\",linewidth=1)  #畫出釘子\n",
        "\n",
        "for i in range(1,H-1+1,1):\n",
        "    X=[2*i-H,2*i-H]\n",
        "    Y=[  0  ,  K+1]\n",
        "    plt.plot(X,Y,color=\"brown\",linewidth=3)    #畫出底座內的隔板\n",
        "\n",
        "X=[ -1,-1*H,-1*H,H,  H,  1]\n",
        "Y=[H+K, K+1,   0,0,K+1,H+K]\n",
        "plt.plot(X,Y,color=\"green\",linewidth=3)        #畫出邊界\n",
        "\n",
        "for i in range(1,N+1,1): #執行N個彈珠的隨機路徑,並儲存最後位置\n",
        "    X=[0];Y=[H+K]        #彈珠路徑的X與Y坐標與起點坐標\n",
        "    for j in range(1,R+1,1):\n",
        "        dice=[1,-1]\n",
        "        r=random.choice(dice)\n",
        "        x=X[j-1]+r ; X.append(x)\n",
        "        y=Y[j-1]-1 ; Y.append(y)\n",
        "    T.append(X[H-1])                   #儲存最後位置\n",
        "plt.plot(X,Y,color=\"red\",linewidth=2)  #只會畫出最後1次的彈珠路徑圖\n",
        "#print(T)  #本指令為確認資料正確,事後可刪除\n",
        "\n",
        "plt.show()"
      ],
      "execution_count": null,
      "outputs": []
    },
    {
      "cell_type": "code",
      "metadata": {
        "id": "dCoRZQeRm1Bv"
      },
      "source": [
        "# 彈珠檯+二項分佈+數學期望值(步驟3)\n",
        "import random ; import numpy as np ; import matplotlib.pyplot as plt\n",
        "plt.figure(figsize=(5,9),dpi=80)\n",
        "H=15    #有H層的彈珠檯,H必須為奇數\n",
        "K=H*2  #底座高為K\n",
        "N=100    #有N顆彈珠,N值不可太大\n",
        "R=H-1  #有R個路口,決定向右下或左下移動\n",
        "T=[]   #儲存每一次彈珠落在哪個x坐標位置的暫存區\n",
        "\n",
        "for i in range(1,H+1,1):\n",
        "    for j in range(1,i+1,1):\n",
        "        x=-i+2*j-1      #釘子的x坐標\n",
        "        y=H+1-i+K       #釘子的y坐標\n",
        "        plt.scatter(x,y,color=\"blue\",linewidth=1)  #畫出釘子\n",
        "\n",
        "for i in range(1,H-1+1,1):\n",
        "    X=[2*i-H,2*i-H]\n",
        "    Y=[  0  ,  K+1]\n",
        "    plt.plot(X,Y,color=\"brown\",linewidth=3)    #畫出底座內的隔板\n",
        "\n",
        "X=[ -1,-1*H,-1*H,H,  H,  1]\n",
        "Y=[H+K, K+1,   0,0,K+1,H+K]\n",
        "plt.plot(X,Y,color=\"green\",linewidth=3)        #畫出邊界\n",
        "\n",
        "for i in range(1,N+1,1): #執行N個彈珠的隨機路徑,並儲存最後位置\n",
        "    X=[0];Y=[H+K]        #彈珠路徑的X與Y坐標與起點坐標\n",
        "    for j in range(1,R+1,1):\n",
        "        dice=[1,-1]\n",
        "        r=random.choice(dice)\n",
        "        x=X[j-1]+r ; X.append(x)\n",
        "        y=Y[j-1]-1 ; Y.append(y)\n",
        "    T.append(X[H-1])                   #儲存最後位置\n",
        "plt.plot(X,Y,color=\"red\",linewidth=2)  #只會畫出最後1次的彈珠路徑圖\n",
        "#print(T)  #本指令為確認資料正確,事後可刪除\n",
        "\n",
        "for i in range(1,H+1,1):  #計算次數,並且放入序列儲存\n",
        "    C=T.count(2*i-H-1)\n",
        "    #print(C)     #本指令為確認資料正確,事後可刪除\n",
        "    if (C!=0):\n",
        "        for j in range(1,C+1,1):      #在底座畫出彈珠\n",
        "            x=2*i-H-1    #彈珠的x坐標\n",
        "            y=j          #彈珠的x坐標\n",
        "            plt.scatter(x,y,color=\"black\",linewidth=3)\n",
        "\n",
        "plt.show()"
      ],
      "execution_count": null,
      "outputs": []
    },
    {
      "cell_type": "code",
      "metadata": {
        "id": "DLBXB-QznCSQ",
        "outputId": "40fbf09c-17c3-4e65-a098-e94573e8f7ca",
        "colab": {
          "base_uri": "https://localhost:8080/",
          "height": 611
        }
      },
      "source": [
        "# 彈珠檯+二項分佈+數學期望值(確認版)\n",
        "import random ; import numpy as np ; import matplotlib.pyplot as plt\n",
        "plt.figure(figsize=(5,9),dpi=80)\n",
        "H=15    #有H層的彈珠檯,H必須為奇數\n",
        "K=H*2  #底座高為K\n",
        "N=120    #有N顆彈珠,N值不可太大\n",
        "R=H-1  #有R個路口,決定向右下或左下移動\n",
        "T=[]   #儲存每一次彈珠落在哪個x坐標位置的暫存區\n",
        "\n",
        "for i in range(1,H+1,1):\n",
        "    for j in range(1,i+1,1):\n",
        "        x=-i+2*j-1      #釘子的x坐標\n",
        "        y=H+1-i+K       #釘子的y坐標\n",
        "        plt.scatter(x,y,color=\"blue\",linewidth=1)  #畫出釘子\n",
        "\n",
        "for i in range(1,H-1+1,1):\n",
        "    X=[2*i-H,2*i-H]\n",
        "    Y=[  0  ,  K+1]\n",
        "    plt.plot(X,Y,color=\"brown\",linewidth=3)    #畫出底座內的隔板\n",
        "\n",
        "X=[ -1,-1*H,-1*H,H,  H,  1]\n",
        "Y=[H+K, K+1,   0,0,K+1,H+K]\n",
        "plt.plot(X,Y,color=\"green\",linewidth=3)        #畫出邊界\n",
        "\n",
        "for i in range(1,N+1,1): #執行N個彈珠的隨機路徑,並儲存最後位置\n",
        "    X=[0];Y=[H+K]        #彈珠路徑的X與Y坐標與起點坐標\n",
        "    for j in range(1,R+1,1):\n",
        "        dice=[1,-1,1,-1,1,-1]\n",
        "        r=random.choice(dice)\n",
        "        x=X[j-1]+r ; X.append(x)\n",
        "        y=Y[j-1]-1 ; Y.append(y)\n",
        "    T.append(X[H-1])                   #儲存最後位置\n",
        "plt.plot(X,Y,color=\"red\",linewidth=2)  #只會畫出最後1次的彈珠路徑圖\n",
        "\n",
        "for i in range(1,H+1,1):  #計算次數,並且放入序列儲存\n",
        "    C=T.count(2*i-H-1)\n",
        "    if (C!=0):\n",
        "        for j in range(1,C+1,1):   #在底座畫出彈珠\n",
        "           plt.scatter(2*i-H-1,j,color=\"black\",linewidth=3)\n",
        "\n",
        "plt.show()\n",
        "print(\"End\")"
      ],
      "execution_count": null,
      "outputs": [
        {
          "output_type": "display_data",
          "data": {
            "image/png": "[encoded data removed]",
            "text/plain": [
              "<Figure size 400x720 with 1 Axes>"
            ]
          },
          "metadata": {
            "tags": [],
            "needs_background": "light"
          }
        },
        {
          "output_type": "stream",
          "text": [
            "End\n"
          ],
          "name": "stdout"
        }
      ]
    },
    {
      "cell_type": "markdown",
      "metadata": {
        "id": "xnrvOxbxVUih"
      },
      "source": [
        "#**其它未分類**"
      ]
    },
    {
      "cell_type": "code",
      "metadata": {
        "id": "Ma_onNeAwiMZ"
      },
      "source": [
        "import numpy as np\n",
        "import matplotlib.pyplot as plt\n",
        "plt.figure(figsize=(10,6),dpi=80)\n",
        "N=10\n",
        "x = np.linspace(0,20,101)\n",
        "for i in range(1,N+1,1):\n",
        "    plt.plot(x,np.sin(x+i*0.5)*(11-i))\n",
        "\n",
        "plt.show()"
      ],
      "execution_count": null,
      "outputs": []
    },
    {
      "cell_type": "code",
      "metadata": {
        "id": "TGjoOGYkt8_Z"
      },
      "source": [
        "#布朗運動~隨機漫步(空間中6個方向)\n",
        "import matplotlib as mpl\n",
        "from mpl_toolkits.mplot3d import Axes3D\n",
        "import numpy as np\n",
        "import matplotlib.pyplot as plt\n",
        "import random\n",
        "fig = plt.figure(figsize = (15,15))\n",
        "ax = fig.gca(projection='3d')\n",
        "\n",
        "N=1000  #隨機次數\n",
        "x=[0,1,0,-1, 0, 0]\n",
        "y=[1,0,0, 0,-1, 0]\n",
        "z=[0,0,1, 0, 0,-1]\n",
        "X=[0]\n",
        "Y=[0]\n",
        "Z=[0]\n",
        "\n",
        "for i in range(1,N+1):\n",
        "    a=random.randint(0,5)    #輸出0-5之間的隨機整數\n",
        "    u=X[i-1]+x[a]\n",
        "    v=Y[i-1]+y[a]\n",
        "    w=Z[i-1]+z[a]\n",
        "    X.append(u)\n",
        "    Y.append(v)\n",
        "    Z.append(w)\n",
        "ax.scatter(X[0], Y[0], Z[0],color=\"green\",linewidth=9 )  #起點(原點)\n",
        "ax.plot(X, Y, Z,color=\"red\",linewidth=2 )                #畫路徑\n",
        "ax.scatter(X[N], Y[N], Z[N],color=\"blue\",linewidth=9 )   #終點\n",
        "\n",
        "plt.show()"
      ],
      "execution_count": null,
      "outputs": []
    },
    {
      "cell_type": "code",
      "metadata": {
        "id": "bsd-ZWjEwxx1"
      },
      "source": [
        "import numpy as np\n",
        "import matplotlib.pyplot as plt\n",
        "from ipywidgets import interact,interact_manual\n",
        "x = np.linspace(0, 2*np.pi, 1000)\n",
        "def draw(a):\n",
        "    y = np.sin(x)\n",
        "    plt.plot(x, y,color=\"blue\")   # y=sin(x)\n",
        "    y1 = np.sin(a*x)\n",
        "    plt.plot(x, y1,color=\"red\")   # y=sin(ax)  \n",
        "    plt.show()\n",
        "\n",
        "interact(draw,a=(1,5,1))"
      ],
      "execution_count": null,
      "outputs": []
    }
  ]
}