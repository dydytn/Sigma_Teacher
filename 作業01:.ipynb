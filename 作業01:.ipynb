{
  "nbformat": 4,
  "nbformat_minor": 0,
  "metadata": {
    "colab": {
      "name": "Basic01.ipynb",
      "provenance": [],
      "collapsed_sections": [
        "GOx_gI1QNcNI"
      ],
      "authorship_tag": "ABX9TyPco3aYPN3I5ll8u73GvJdg"
    },
    "kernelspec": {
      "name": "python3",
      "display_name": "Python 3"
    }
  },
  "cells": [
    {
      "cell_type": "markdown",
      "metadata": {
        "id": "IN7H6RERLN79"
      },
      "source": [
        "#**python條件語句** if"
      ]
    },
    {
      "cell_type": "markdown",
      "metadata": {
        "id": "7mJKmXtpLTzB"
      },
      "source": [
        "##[1] if\n",
        "##[2] if ...elsif\n",
        "##[3] if ...else\n",
        "##[4] if ...elsif ...else\n",
        "\n",
        "單向判斷式（if⋯）: 是非題｜對的才要做\n",
        "\n",
        "雙向判斷式（if⋯else）: 二選一｜一定要選的\n",
        "\n",
        "多向判斷式（if⋯elif⋯else）: 多選一｜一定要選的"
      ]
    },
    {
      "cell_type": "code",
      "metadata": {
        "id": "CjdiJbiwMYhQ"
      },
      "source": [
        "#範例\n",
        "a = 3\n",
        "b = 5\n",
        "if b > a:\n",
        "  print(\"b is greater than a\")"
      ],
      "execution_count": null,
      "outputs": []
    },
    {
      "cell_type": "code",
      "metadata": {
        "id": "ha0KH1RQMgNo"
      },
      "source": [
        "#範例\n",
        "a = 6\n",
        "b = 5\n",
        "if b > a:\n",
        "  print(\"b is greater than a\")"
      ],
      "execution_count": 12,
      "outputs": []
    },
    {
      "cell_type": "code",
      "metadata": {
        "id": "CPG9Sej8Mvth"
      },
      "source": [
        "#範例\n",
        "a = 3\n",
        "b = 5\n",
        "if b > a:\n",
        "  print(\"b is greater than a\")\n",
        "elif a == b:\n",
        "  print(\"a and b are equal\")"
      ],
      "execution_count": null,
      "outputs": []
    },
    {
      "cell_type": "code",
      "metadata": {
        "id": "u7HVPhpwNCEi"
      },
      "source": [
        "#範例\n",
        "a = 3\n",
        "b = 3\n",
        "if b > a:\n",
        "  print(\"b is greater than a\")\n",
        "elif a == b:\n",
        "  print(\"a and b are equal\")"
      ],
      "execution_count": null,
      "outputs": []
    },
    {
      "cell_type": "code",
      "metadata": {
        "id": "ZjBxDDFeNFfp"
      },
      "source": [
        "#範例\n",
        "a = 6\n",
        "b = 5\n",
        "\n",
        "if b > a:\n",
        "  print(\"b is greater than a\")\n",
        "elif a == b:\n",
        "  print(\"a and b are equal\")"
      ],
      "execution_count": 18,
      "outputs": []
    },
    {
      "cell_type": "code",
      "metadata": {
        "id": "EMYFd0-_NIu-"
      },
      "source": [
        "#範例\n",
        "a = 3\n",
        "b = 5\n",
        "\n",
        "if b > a:\n",
        "  print(\"b is greater than a\")\n",
        "else:\n",
        "  print(\"b is not greater than a\")"
      ],
      "execution_count": null,
      "outputs": []
    },
    {
      "cell_type": "code",
      "metadata": {
        "id": "ND__NkJVNL91"
      },
      "source": [
        "#範例\n",
        "a = 6\n",
        "b = 5\n",
        "\n",
        "if b > a:\n",
        "  print(\"b is greater than a\")\n",
        "elif a == b:\n",
        "  print(\"a and b are equal\")\n",
        "else:\n",
        "  print(\"a is greater than b\")"
      ],
      "execution_count": null,
      "outputs": []
    },
    {
      "cell_type": "markdown",
      "metadata": {
        "id": "GOx_gI1QNcNI"
      },
      "source": [
        "##作業:\n",
        "百貨公司週年慶活動血拼大打折，\n",
        "吸引很多顧客上門，\n",
        "公司決定再加碼回饋客戶，\n",
        "\n",
        "只要客戶消費\n",
        "金額在 100000 元以上就打八折，\n",
        "金額在 50000 元以上就打八五折，\n",
        "金額在 30000 元以上就打九折，\n",
        "金額在 10000 元以上就打九五折，\n",
        "金額在 10000 元以下就不打折\n",
        "\n",
        "請幫該公司設計這個收銀台的程式，\n",
        "輸入顧客購買金額後，計算顧客應付的金錢。"
      ]
    }
  ]
}