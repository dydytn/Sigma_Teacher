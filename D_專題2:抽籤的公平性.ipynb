{
  "nbformat": 4,
  "nbformat_minor": 0,
  "metadata": {
    "colab": {
      "name": "project2.ipynb",
      "provenance": [],
      "collapsed_sections": [],
      "authorship_tag": "ABX9TyNj9Tcmjt4yKlm6mqyV6Lno"
    },
    "kernelspec": {
      "name": "python3",
      "display_name": "Python 3"
    }
  },
  "cells": [
    {
      "cell_type": "markdown",
      "metadata": {
        "id": "Qd8Ii3apPl-Z"
      },
      "source": [
        "#**(抽籤的公平性)**\n",
        "抽籤時 先抽和後抽公平嗎？\n",
        "\n",
        "生活中有一個需要用到機率知識的常見局面：比較少的東西要分給比較多\n",
        "\n",
        "的人，比如把2張電影票分給5個人，由於不夠分，只好用抽籤的形式分\n",
        "\n",
        "配。一個顯然的問題是：先抽和後抽的中籤機會均等麼？\n",
        "\n",
        "答案是：均等，不管誰先抽都是公平的。\n"
      ]
    },
    {
      "cell_type": "markdown",
      "metadata": {
        "id": "nS6SFoKwBfw8"
      },
      "source": [
        "## **(問題與實作)**\n",
        "\n",
        "\n",
        "有a、b、c、d、e五個人，他們約定依照a、b、c、d、e \n",
        "\n",
        "的順序取球。已知籤筒中有2顆紅球與3顆白球共五顆球,\n",
        "\n",
        "取後不放回。若取到紅球代表中獎,取到白球代表不中獎。\n",
        "\n",
        "試分別求a、b、c、d、e的中獎機率"
      ]
    },
    {
      "cell_type": "markdown",
      "metadata": {
        "id": "U_B9WX3CQS2-"
      },
      "source": [
        "####**步驟0:**試將所有的情況列出來."
      ]
    },
    {
      "cell_type": "code",
      "metadata": {
        "id": "qG7d8O9fQS2-"
      },
      "source": [
        "S=[\"紅\",\"白\"]\n",
        "Ans=[]\n",
        "#設x,y,z,u,v分別為a,b,c,d,e所選到的球\n",
        "for x in S:\n",
        " for y in S:\n",
        "  for z in S:\n",
        "   for u in S:\n",
        "    for v in S:\n",
        "     T=[x,y,z,u,v]  #暫時放置的序列\n",
        "     C1=T.count(\"紅\") #計算\"紅\"的次數\n",
        "     C2=T.count(\"白\") #計算\"白\"的次數\n",
        "     if (C1==2 and C2==3):\n",
        "       Ans.append(x+y+z+u+v)\n",
        "print (\"答案=\",Ans)\n",
        "print (\"方法數=\",len(Ans))"
      ],
      "execution_count": null,
      "outputs": []
    },
    {
      "cell_type": "markdown",
      "metadata": {
        "id": "6ynw6kd8QS2-"
      },
      "source": [
        "####**步驟1:** 確認實驗的正確性"
      ]
    },
    {
      "cell_type": "code",
      "metadata": {
        "id": "KlwEoYhVQS2-"
      },
      "source": [
        "import random\n",
        "N=10\n",
        "Ans=[]\n",
        "#設x,y,z,u,v分別為a,b,c,d,e所選到的球\n",
        "for i in range(1,N+1,1):\n",
        "  P=[\"R\",\"R\",\"W\",\"W\",\"W\"]\n",
        "  x=random.choice(P)  #a所抽到的球\n",
        "  P.remove(x)      #移除a所抽到的球\n",
        "  y=random.choice(P)  #b所抽到的球\n",
        "  P.remove(y)      #移除b所抽到的球\n",
        "  z=random.choice(P)    #c所抽到的球\n",
        "  P.remove(z)      #移除c所抽到的球\n",
        "  u=random.choice(P)  #d所抽到的球\n",
        "  P.remove(u)      #移除d所抽到的球\n",
        "  v=random.choice(P)  #e所抽到的球\n",
        "  Ans.append(x+y+z+u+v)\n",
        "print (\"答案=\",Ans)    #正確之後可加#\n",
        "print (\"方法數=\",len(Ans)) #正確之後可加#"
      ],
      "execution_count": null,
      "outputs": []
    },
    {
      "cell_type": "markdown",
      "metadata": {
        "id": "X2RMlvbTQS2-"
      },
      "source": [
        "####**步驟2:** 確認資料能正確的讀取"
      ]
    },
    {
      "cell_type": "code",
      "metadata": {
        "id": "4MeugiTxQS2-"
      },
      "source": [
        "for data in Ans:\n",
        "    print (data,\"其順序分別是:\",data[0],data[1],data[2],data[3],data[4])"
      ],
      "execution_count": null,
      "outputs": []
    },
    {
      "cell_type": "markdown",
      "metadata": {
        "id": "aIiwodeKQS2-"
      },
      "source": [
        "####**步驟3:** 確認實驗的正確性"
      ]
    },
    {
      "cell_type": "code",
      "metadata": {
        "id": "KoWhEO5BQS2-"
      },
      "source": [
        "A=[];B=[];C=[];D=[];E=[]\n",
        "for data in Ans:\n",
        "  if (data[0]==\"R\"):\n",
        "     A.append(data)\n",
        "  if (data[1]==\"R\"):\n",
        "     B.append(data)\n",
        "  if (data[2]==\"R\"):\n",
        "     C.append(data)\n",
        "  if (data[3]==\"R\"):\n",
        "     D.append(data)\n",
        "  if (data[4]==\"R\"):\n",
        "     E.append(data)\n",
        "print(\"a中獎的機率實驗值=\",len(A)/N)\n",
        "print(\"b中獎的機率實驗值=\",len(B)/N)\n",
        "print(\"c中獎的機率實驗值=\",len(C)/N)\n",
        "print(\"d中獎的機率實驗值=\",len(D)/N)\n",
        "print(\"e中獎的機率實驗值=\",len(E)/N)"
      ],
      "execution_count": null,
      "outputs": []
    },
    {
      "cell_type": "markdown",
      "metadata": {
        "id": "O0mRdffcQS2-"
      },
      "source": [
        "####**步驟4:** 以古典機率理論計算機率值"
      ]
    },
    {
      "cell_type": "code",
      "metadata": {
        "id": "LTUQI1E3QS2-"
      },
      "source": [
        "print(\"a中獎的機率理論值=2/5=\",2/5)\n",
        "print(\"b中獎的機率理論值=2/5=\",2/5)\n",
        "print(\"c中獎的機率理論值=2/5=\",2/5)\n",
        "print(\"d中獎的機率理論值=2/5=\",2/5)\n",
        "print(\"e中獎的機率理論值=2/5=\",2/5)"
      ],
      "execution_count": null,
      "outputs": []
    },
    {
      "cell_type": "markdown",
      "metadata": {
        "id": "LOYDBxK9QS2-"
      },
      "source": [
        "####**步驟5:**作出柱狀圖與折線圖"
      ]
    },
    {
      "cell_type": "code",
      "metadata": {
        "id": "jZXs1NRtngY3"
      },
      "source": [
        "import matplotlib.pyplot as plt\n",
        "plt.figure(figsize=(6,4),dpi=80)\n",
        "plt.title(\"Probability of a,b,c,d,e\") #標題名稱\n",
        "\n",
        "x=[\"a\",\"b\",\"c\",\"d\",\"e\"]\n",
        "y1=[len(A)/N,len(B)/N,len(C)/N,len(D)/N,len(E)/N]   #實驗值\n",
        "y2=[2/5,2/5,2/5,2/5,2/5]                   #理論值\n",
        "\n",
        "plt.plot(x,y1,color=\"red\",marker=\"D\",label=\"Experiment value\") #作出折線圖\n",
        "plt.bar(x,y2,color=\"skyblue\",label=\"Theory value\")   #作出柱狀圖\n",
        "\n",
        "plt.legend(loc=\"upper right\") #展示每組數據對應的圖像名稱與位置\n",
        "plt.ylim(0,0.7)              #設定 y 軸的範圍\n",
        "plt.show()"
      ],
      "execution_count": null,
      "outputs": []
    },
    {
      "cell_type": "markdown",
      "metadata": {
        "id": "eFMSyH6ZnY5e"
      },
      "source": [
        "####**步驟6:** 將前幾步驟整合為1個程式"
      ]
    },
    {
      "cell_type": "markdown",
      "metadata": {
        "id": "-6tvjRfWGVlw"
      },
      "source": [
        "##**(Homework1)**\n",
        "若一次抽１個起來，但不放回，所以對其中一個球來說\n",
        "\n",
        "第一次抽中的機率是：1/4\n",
        "\n",
        "第二次才抽中的機率是：3/4 * 1/3 = 1/4，\n",
        "\n",
        "第三次才抽中的機率是：3/4 * 2/3 * 1/2  = 1/4\n",
        "\n",
        "第四次才抽中的機率是：3/4 * 2/3 * 1/2 * 1 = 1/4"
      ]
    },
    {
      "cell_type": "markdown",
      "metadata": {
        "id": "3rYc8uuLA8Px"
      },
      "source": [
        "##**(Homework2)**\n",
        "若一次抽１個起來，但放回，所以對其中一個球來說\n",
        "\n",
        "第一次抽中的機率是：1/4\n",
        "\n",
        "第二次才抽中的機率是：3/4 * 1/4 = 3/16 \n",
        "\n",
        "第三次才抽中的機率是：3/4 * 3/4 * 1/4 = 9/64\n",
        "\n",
        "第四次才抽中的機率是：3/4 * 3/4 * 3/4 * 1/4 = 27/256"
      ]
    }
  ]
}